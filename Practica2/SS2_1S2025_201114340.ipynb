{
  "nbformat": 4,
  "nbformat_minor": 0,
  "metadata": {
    "colab": {
      "provenance": []
    },
    "kernelspec": {
      "name": "python3",
      "display_name": "Python 3"
    },
    "language_info": {
      "name": "python"
    }
  },
  "cells": [
    {
      "cell_type": "markdown",
      "source": [
        "# Visualization"
      ],
      "metadata": {
        "id": "uMaVZxdU3Jn7"
      }
    },
    {
      "cell_type": "markdown",
      "source": [
        "## Imports\n",
        "The following imports are needed extract and transform data to plot metrics and make analysis.\n",
        "\n",
        "* pandas: used for creating dataframes\n",
        "* numpy: used for doing aritmetic calculations like averages\n",
        "* matplotlib.pyplot: used for creating plots\n",
        "* re: pyhtong library for regex, used for finding matches in strings"
      ],
      "metadata": {
        "id": "6lkJU4Cb7Ofs"
      }
    },
    {
      "cell_type": "code",
      "source": [
        "import pandas as pd\n",
        "import numpy as np\n",
        "import matplotlib.pyplot as plt\n",
        "import re # python regex library"
      ],
      "metadata": {
        "id": "TbV9l80V3WVa"
      },
      "execution_count": 2,
      "outputs": []
    },
    {
      "cell_type": "markdown",
      "source": [
        "## Upload File"
      ],
      "metadata": {
        "id": "BxiHFiSr3pwE"
      }
    },
    {
      "cell_type": "code",
      "source": [
        "from google.colab import files\n",
        "\n",
        "csv = files.upload()"
      ],
      "metadata": {
        "colab": {
          "base_uri": "https://localhost:8080/",
          "height": 74
        },
        "id": "DTdRNZNK3tlr",
        "outputId": "63dd7c69-f0fa-42f5-dccd-9816cb2a2c59"
      },
      "execution_count": 3,
      "outputs": [
        {
          "output_type": "display_data",
          "data": {
            "text/plain": [
              "<IPython.core.display.HTML object>"
            ],
            "text/html": [
              "\n",
              "     <input type=\"file\" id=\"files-54dcbcbf-d4b2-4ed2-825c-9fc1a3e93e40\" name=\"files[]\" multiple disabled\n",
              "        style=\"border:none\" />\n",
              "     <output id=\"result-54dcbcbf-d4b2-4ed2-825c-9fc1a3e93e40\">\n",
              "      Upload widget is only available when the cell has been executed in the\n",
              "      current browser session. Please rerun this cell to enable.\n",
              "      </output>\n",
              "      <script>// Copyright 2017 Google LLC\n",
              "//\n",
              "// Licensed under the Apache License, Version 2.0 (the \"License\");\n",
              "// you may not use this file except in compliance with the License.\n",
              "// You may obtain a copy of the License at\n",
              "//\n",
              "//      http://www.apache.org/licenses/LICENSE-2.0\n",
              "//\n",
              "// Unless required by applicable law or agreed to in writing, software\n",
              "// distributed under the License is distributed on an \"AS IS\" BASIS,\n",
              "// WITHOUT WARRANTIES OR CONDITIONS OF ANY KIND, either express or implied.\n",
              "// See the License for the specific language governing permissions and\n",
              "// limitations under the License.\n",
              "\n",
              "/**\n",
              " * @fileoverview Helpers for google.colab Python module.\n",
              " */\n",
              "(function(scope) {\n",
              "function span(text, styleAttributes = {}) {\n",
              "  const element = document.createElement('span');\n",
              "  element.textContent = text;\n",
              "  for (const key of Object.keys(styleAttributes)) {\n",
              "    element.style[key] = styleAttributes[key];\n",
              "  }\n",
              "  return element;\n",
              "}\n",
              "\n",
              "// Max number of bytes which will be uploaded at a time.\n",
              "const MAX_PAYLOAD_SIZE = 100 * 1024;\n",
              "\n",
              "function _uploadFiles(inputId, outputId) {\n",
              "  const steps = uploadFilesStep(inputId, outputId);\n",
              "  const outputElement = document.getElementById(outputId);\n",
              "  // Cache steps on the outputElement to make it available for the next call\n",
              "  // to uploadFilesContinue from Python.\n",
              "  outputElement.steps = steps;\n",
              "\n",
              "  return _uploadFilesContinue(outputId);\n",
              "}\n",
              "\n",
              "// This is roughly an async generator (not supported in the browser yet),\n",
              "// where there are multiple asynchronous steps and the Python side is going\n",
              "// to poll for completion of each step.\n",
              "// This uses a Promise to block the python side on completion of each step,\n",
              "// then passes the result of the previous step as the input to the next step.\n",
              "function _uploadFilesContinue(outputId) {\n",
              "  const outputElement = document.getElementById(outputId);\n",
              "  const steps = outputElement.steps;\n",
              "\n",
              "  const next = steps.next(outputElement.lastPromiseValue);\n",
              "  return Promise.resolve(next.value.promise).then((value) => {\n",
              "    // Cache the last promise value to make it available to the next\n",
              "    // step of the generator.\n",
              "    outputElement.lastPromiseValue = value;\n",
              "    return next.value.response;\n",
              "  });\n",
              "}\n",
              "\n",
              "/**\n",
              " * Generator function which is called between each async step of the upload\n",
              " * process.\n",
              " * @param {string} inputId Element ID of the input file picker element.\n",
              " * @param {string} outputId Element ID of the output display.\n",
              " * @return {!Iterable<!Object>} Iterable of next steps.\n",
              " */\n",
              "function* uploadFilesStep(inputId, outputId) {\n",
              "  const inputElement = document.getElementById(inputId);\n",
              "  inputElement.disabled = false;\n",
              "\n",
              "  const outputElement = document.getElementById(outputId);\n",
              "  outputElement.innerHTML = '';\n",
              "\n",
              "  const pickedPromise = new Promise((resolve) => {\n",
              "    inputElement.addEventListener('change', (e) => {\n",
              "      resolve(e.target.files);\n",
              "    });\n",
              "  });\n",
              "\n",
              "  const cancel = document.createElement('button');\n",
              "  inputElement.parentElement.appendChild(cancel);\n",
              "  cancel.textContent = 'Cancel upload';\n",
              "  const cancelPromise = new Promise((resolve) => {\n",
              "    cancel.onclick = () => {\n",
              "      resolve(null);\n",
              "    };\n",
              "  });\n",
              "\n",
              "  // Wait for the user to pick the files.\n",
              "  const files = yield {\n",
              "    promise: Promise.race([pickedPromise, cancelPromise]),\n",
              "    response: {\n",
              "      action: 'starting',\n",
              "    }\n",
              "  };\n",
              "\n",
              "  cancel.remove();\n",
              "\n",
              "  // Disable the input element since further picks are not allowed.\n",
              "  inputElement.disabled = true;\n",
              "\n",
              "  if (!files) {\n",
              "    return {\n",
              "      response: {\n",
              "        action: 'complete',\n",
              "      }\n",
              "    };\n",
              "  }\n",
              "\n",
              "  for (const file of files) {\n",
              "    const li = document.createElement('li');\n",
              "    li.append(span(file.name, {fontWeight: 'bold'}));\n",
              "    li.append(span(\n",
              "        `(${file.type || 'n/a'}) - ${file.size} bytes, ` +\n",
              "        `last modified: ${\n",
              "            file.lastModifiedDate ? file.lastModifiedDate.toLocaleDateString() :\n",
              "                                    'n/a'} - `));\n",
              "    const percent = span('0% done');\n",
              "    li.appendChild(percent);\n",
              "\n",
              "    outputElement.appendChild(li);\n",
              "\n",
              "    const fileDataPromise = new Promise((resolve) => {\n",
              "      const reader = new FileReader();\n",
              "      reader.onload = (e) => {\n",
              "        resolve(e.target.result);\n",
              "      };\n",
              "      reader.readAsArrayBuffer(file);\n",
              "    });\n",
              "    // Wait for the data to be ready.\n",
              "    let fileData = yield {\n",
              "      promise: fileDataPromise,\n",
              "      response: {\n",
              "        action: 'continue',\n",
              "      }\n",
              "    };\n",
              "\n",
              "    // Use a chunked sending to avoid message size limits. See b/62115660.\n",
              "    let position = 0;\n",
              "    do {\n",
              "      const length = Math.min(fileData.byteLength - position, MAX_PAYLOAD_SIZE);\n",
              "      const chunk = new Uint8Array(fileData, position, length);\n",
              "      position += length;\n",
              "\n",
              "      const base64 = btoa(String.fromCharCode.apply(null, chunk));\n",
              "      yield {\n",
              "        response: {\n",
              "          action: 'append',\n",
              "          file: file.name,\n",
              "          data: base64,\n",
              "        },\n",
              "      };\n",
              "\n",
              "      let percentDone = fileData.byteLength === 0 ?\n",
              "          100 :\n",
              "          Math.round((position / fileData.byteLength) * 100);\n",
              "      percent.textContent = `${percentDone}% done`;\n",
              "\n",
              "    } while (position < fileData.byteLength);\n",
              "  }\n",
              "\n",
              "  // All done.\n",
              "  yield {\n",
              "    response: {\n",
              "      action: 'complete',\n",
              "    }\n",
              "  };\n",
              "}\n",
              "\n",
              "scope.google = scope.google || {};\n",
              "scope.google.colab = scope.google.colab || {};\n",
              "scope.google.colab._files = {\n",
              "  _uploadFiles,\n",
              "  _uploadFilesContinue,\n",
              "};\n",
              "})(self);\n",
              "</script> "
            ]
          },
          "metadata": {}
        },
        {
          "output_type": "stream",
          "name": "stdout",
          "text": [
            "Saving Datos.csv to Datos.csv\n"
          ]
        }
      ]
    },
    {
      "cell_type": "markdown",
      "source": [
        "## Load CSV\n"
      ],
      "metadata": {
        "id": "5VSrgY4T39EJ"
      }
    },
    {
      "cell_type": "code",
      "source": [
        "dataframe = pd.read_csv(\"Datos.csv\")\n",
        "len(dataframe) # print number of rows"
      ],
      "metadata": {
        "colab": {
          "base_uri": "https://localhost:8080/"
        },
        "id": "vX4nuIPF4ADq",
        "outputId": "97c44676-93a9-4424-8973-f1efeba76802"
      },
      "execution_count": 4,
      "outputs": [
        {
          "output_type": "execute_result",
          "data": {
            "text/plain": [
              "9595"
            ]
          },
          "metadata": {},
          "execution_count": 4
        }
      ]
    },
    {
      "cell_type": "markdown",
      "source": [
        "## Transformations\n",
        "I will try to discard the least amount of rows with the following transformations\n",
        "\n",
        "### Empty Ratings\n",
        "They will be assigned 0, in some analysis they will be discarded but keeping them lets us include the rest of the information in other columns of the rows with not rating\n"
      ],
      "metadata": {
        "id": "EBEFrFLG5rpx"
      }
    },
    {
      "cell_type": "code",
      "source": [
        "dataframe[\"Rating\"] = pd.to_numeric(dataframe[\"Rating\"].fillna(0.0))"
      ],
      "metadata": {
        "id": "AR33L2b2-Waz"
      },
      "execution_count": 5,
      "outputs": []
    },
    {
      "cell_type": "markdown",
      "source": [
        "## Duration\n",
        "I use regex to find time unit matches. Priority to find string matches, from more priority to less priority, will be month, week, hour and minutes, minutes.\n",
        "\n",
        "* We will transform everything to hours. Months has an average of 4.33 weeks, we will use this info to calcualte the total hours. Minutes will be given in their hour fraction, for example 15 minutes is 0.25 hours\n",
        "* For debugging purposes I will return a tupple which will have the total ammount of hours and the greatest unit of time we used to calculate hours\n",
        "* Empty strings will be [0.0 \"hour\"]\n",
        "* Strings that don't match our regular expressions will be declared as [0.0, \"noFormat\"]"
      ],
      "metadata": {
        "id": "PCxWJr_qbMbo"
      }
    },
    {
      "cell_type": "code",
      "source": [
        "def parse_duration(text):\n",
        "    if not isinstance(text, str) or not text.strip():\n",
        "        return (0.0, \"hour\")\n",
        "\n",
        "    text = text.lower()\n",
        "\n",
        "    # Check for months first\n",
        "    month_match = re.search(r'(\\d+)\\s*month', text)\n",
        "    months = None\n",
        "    if month_match:\n",
        "        months = float(month_match.group(1))\n",
        "\n",
        "    # Check for hours and minutes\n",
        "    hour_match = re.search(r'(\\d+)\\s*hour', text)\n",
        "    hours = None\n",
        "    if hour_match:\n",
        "        hours = int(hour_match.group(1))\n",
        "\n",
        "    if months and hours:\n",
        "        total_weeks = months * 4.33 # months have an average of 4.33 weeks\n",
        "        total_hours = total_weeks * hours # courses that last months will how detail many hours a week are expected to study\n",
        "        return(total_hours, \"month\")\n",
        "\n",
        "    week_match = re.search(r'(\\d+)\\s*week', text)\n",
        "    weeks = None\n",
        "    if week_match:\n",
        "        weeks = float(week_match.group(1))\n",
        "\n",
        "        if hours:\n",
        "            total_days = weeks * 7\n",
        "            total_hours = total_days * hours # courses that last weeks will detail how many hours a week is needed\n",
        "            return(total_hours, \"week\")\n",
        "\n",
        "    minute_match = re.search(r'(\\d+)\\s*minute', text)\n",
        "    minutes = None\n",
        "\n",
        "    if minute_match:\n",
        "        minutes = int(minute_match.group(1))\n",
        "\n",
        "    # case when there is no hours just minuts\n",
        "    if not hours and isinstance(minutes, int) and minutes > 0:\n",
        "        hour_fraction = minutes / 60\n",
        "        return (hour_fraction, 'minute')\n",
        "\n",
        "    # Apply rounding rules based on minutes\n",
        "    # if minutes == 0:\n",
        "    #     amount = float(hours)\n",
        "    # elif minutes <= 30:\n",
        "    #     amount = float(hours) + 0.5\n",
        "    # else:\n",
        "    #     amount = float(hours + 1)\n",
        "\n",
        "    # If no valid time info found\n",
        "    if not hours and not minutes:\n",
        "        return (0.0, \"noFormat\")\n",
        "\n",
        "    hour_fraction = minutes / 60 if minutes else 0.0\n",
        "    hours = hours + hour_fraction\n",
        "    return (hours, 'hour')\n",
        "\n",
        "dataframe[['ammountOfHours', 'courseLengthBaseUnit']] = dataframe['Duration'].apply(lambda x: pd.Series(parse_duration(x)))\n",
        "\n",
        "dataframe.loc[(dataframe['ammountOfHours'] == 0.0) & (dataframe['courseLengthBaseUnit'] == \"hour\")].head()"
      ],
      "metadata": {
        "colab": {
          "base_uri": "https://localhost:8080/",
          "height": 608
        },
        "id": "0yizXR9lbpci",
        "outputId": "597f6fed-c1ce-4790-dbb1-ba4bf27e0e58"
      },
      "execution_count": 6,
      "outputs": [
        {
          "output_type": "execute_result",
          "data": {
            "text/plain": [
              "                                          Course Title  Rating  \\\n",
              "16       Create your UX portfolio with Adobe Portfolio     0.0   \n",
              "235  Adobe Photoshop Para Principiantes: Efectos y ...     0.0   \n",
              "398  Cómo crear historias para Instagram y Facebook...     4.2   \n",
              "447  Edita tus fotos para las redes sociales con Easil     0.0   \n",
              "448  Bearbeite deine Fotos für soziale Medien mit E...     0.0   \n",
              "\n",
              "              Level Duration Schedule      Review  \\\n",
              "16   Beginner level      NaN      NaN         NaN   \n",
              "235  Beginner level      NaN      NaN         NaN   \n",
              "398  Beginner level      NaN      NaN  18 reviews   \n",
              "447  Beginner level      NaN      NaN         NaN   \n",
              "448  Beginner level      NaN      NaN         NaN   \n",
              "\n",
              "                                   What you will learn  \\\n",
              "16   In this project you will learn how to create a...   \n",
              "235  Aplica filtros inteligentes a una imagen.Incor...   \n",
              "398  En este proyecto aprenderás a utilizar Canva p...   \n",
              "447  Crea un proyecto fotográfico individual en Eas...   \n",
              "448  Designe dein individuelles Fotoprojekt für soz...   \n",
              "\n",
              "                                            Skill gain  \\\n",
              "16   ['Share Content', 'Search Engine Optimization ...   \n",
              "235  ['Adobe Photoshop', 'Photography', 'Photo Enha...   \n",
              "398  ['Social Media Marketing', 'Social Media', 'Co...   \n",
              "447  ['Social Media Marketing', 'Photography', 'Soc...   \n",
              "448  ['Social Media Marketing', 'Photography', 'Gra...   \n",
              "\n",
              "                    Modules                       Instructor  \\\n",
              "16   ['Learn step-by-step']                ['Nicole Alvelo']   \n",
              "235  ['Learn step-by-step']              ['Kevin Rodriguez']   \n",
              "398  ['Learn step-by-step']  ['Monica I. Heredia Rodriguez']   \n",
              "447  ['Learn step-by-step']              ['Michelle Flores']   \n",
              "448  ['Learn step-by-step']              ['Michelle Flores']   \n",
              "\n",
              "                       Offered By              Keyword  \\\n",
              "16   ['Coursera Project Network']  Arts and Humanities   \n",
              "235  ['Coursera Project Network']  Arts and Humanities   \n",
              "398  ['Coursera Project Network']  Arts and Humanities   \n",
              "447  ['Coursera Project Network']  Arts and Humanities   \n",
              "448  ['Coursera Project Network']  Arts and Humanities   \n",
              "\n",
              "                                            Course Url  ammountOfHours  \\\n",
              "16   https://www.coursera.org/projects/create-your-...             0.0   \n",
              "235  https://www.coursera.org/projects/adobe-photos...             0.0   \n",
              "398  https://www.coursera.org/projects/como-crear-h...             0.0   \n",
              "447  https://www.coursera.org/projects/edita-fotos-...             0.0   \n",
              "448  https://www.coursera.org/projects/bearbeite-fo...             0.0   \n",
              "\n",
              "    courseLengthBaseUnit  \n",
              "16                  hour  \n",
              "235                 hour  \n",
              "398                 hour  \n",
              "447                 hour  \n",
              "448                 hour  "
            ],
            "text/html": [
              "\n",
              "  <div id=\"df-e038760d-9c9a-496d-bc14-95459ea2d6e6\" class=\"colab-df-container\">\n",
              "    <div>\n",
              "<style scoped>\n",
              "    .dataframe tbody tr th:only-of-type {\n",
              "        vertical-align: middle;\n",
              "    }\n",
              "\n",
              "    .dataframe tbody tr th {\n",
              "        vertical-align: top;\n",
              "    }\n",
              "\n",
              "    .dataframe thead th {\n",
              "        text-align: right;\n",
              "    }\n",
              "</style>\n",
              "<table border=\"1\" class=\"dataframe\">\n",
              "  <thead>\n",
              "    <tr style=\"text-align: right;\">\n",
              "      <th></th>\n",
              "      <th>Course Title</th>\n",
              "      <th>Rating</th>\n",
              "      <th>Level</th>\n",
              "      <th>Duration</th>\n",
              "      <th>Schedule</th>\n",
              "      <th>Review</th>\n",
              "      <th>What you will learn</th>\n",
              "      <th>Skill gain</th>\n",
              "      <th>Modules</th>\n",
              "      <th>Instructor</th>\n",
              "      <th>Offered By</th>\n",
              "      <th>Keyword</th>\n",
              "      <th>Course Url</th>\n",
              "      <th>ammountOfHours</th>\n",
              "      <th>courseLengthBaseUnit</th>\n",
              "    </tr>\n",
              "  </thead>\n",
              "  <tbody>\n",
              "    <tr>\n",
              "      <th>16</th>\n",
              "      <td>Create your UX portfolio with Adobe Portfolio</td>\n",
              "      <td>0.0</td>\n",
              "      <td>Beginner level</td>\n",
              "      <td>NaN</td>\n",
              "      <td>NaN</td>\n",
              "      <td>NaN</td>\n",
              "      <td>In this project you will learn how to create a...</td>\n",
              "      <td>['Share Content', 'Search Engine Optimization ...</td>\n",
              "      <td>['Learn step-by-step']</td>\n",
              "      <td>['Nicole Alvelo']</td>\n",
              "      <td>['Coursera Project Network']</td>\n",
              "      <td>Arts and Humanities</td>\n",
              "      <td>https://www.coursera.org/projects/create-your-...</td>\n",
              "      <td>0.0</td>\n",
              "      <td>hour</td>\n",
              "    </tr>\n",
              "    <tr>\n",
              "      <th>235</th>\n",
              "      <td>Adobe Photoshop Para Principiantes: Efectos y ...</td>\n",
              "      <td>0.0</td>\n",
              "      <td>Beginner level</td>\n",
              "      <td>NaN</td>\n",
              "      <td>NaN</td>\n",
              "      <td>NaN</td>\n",
              "      <td>Aplica filtros inteligentes a una imagen.Incor...</td>\n",
              "      <td>['Adobe Photoshop', 'Photography', 'Photo Enha...</td>\n",
              "      <td>['Learn step-by-step']</td>\n",
              "      <td>['Kevin Rodriguez']</td>\n",
              "      <td>['Coursera Project Network']</td>\n",
              "      <td>Arts and Humanities</td>\n",
              "      <td>https://www.coursera.org/projects/adobe-photos...</td>\n",
              "      <td>0.0</td>\n",
              "      <td>hour</td>\n",
              "    </tr>\n",
              "    <tr>\n",
              "      <th>398</th>\n",
              "      <td>Cómo crear historias para Instagram y Facebook...</td>\n",
              "      <td>4.2</td>\n",
              "      <td>Beginner level</td>\n",
              "      <td>NaN</td>\n",
              "      <td>NaN</td>\n",
              "      <td>18 reviews</td>\n",
              "      <td>En este proyecto aprenderás a utilizar Canva p...</td>\n",
              "      <td>['Social Media Marketing', 'Social Media', 'Co...</td>\n",
              "      <td>['Learn step-by-step']</td>\n",
              "      <td>['Monica I. Heredia Rodriguez']</td>\n",
              "      <td>['Coursera Project Network']</td>\n",
              "      <td>Arts and Humanities</td>\n",
              "      <td>https://www.coursera.org/projects/como-crear-h...</td>\n",
              "      <td>0.0</td>\n",
              "      <td>hour</td>\n",
              "    </tr>\n",
              "    <tr>\n",
              "      <th>447</th>\n",
              "      <td>Edita tus fotos para las redes sociales con Easil</td>\n",
              "      <td>0.0</td>\n",
              "      <td>Beginner level</td>\n",
              "      <td>NaN</td>\n",
              "      <td>NaN</td>\n",
              "      <td>NaN</td>\n",
              "      <td>Crea un proyecto fotográfico individual en Eas...</td>\n",
              "      <td>['Social Media Marketing', 'Photography', 'Soc...</td>\n",
              "      <td>['Learn step-by-step']</td>\n",
              "      <td>['Michelle Flores']</td>\n",
              "      <td>['Coursera Project Network']</td>\n",
              "      <td>Arts and Humanities</td>\n",
              "      <td>https://www.coursera.org/projects/edita-fotos-...</td>\n",
              "      <td>0.0</td>\n",
              "      <td>hour</td>\n",
              "    </tr>\n",
              "    <tr>\n",
              "      <th>448</th>\n",
              "      <td>Bearbeite deine Fotos für soziale Medien mit E...</td>\n",
              "      <td>0.0</td>\n",
              "      <td>Beginner level</td>\n",
              "      <td>NaN</td>\n",
              "      <td>NaN</td>\n",
              "      <td>NaN</td>\n",
              "      <td>Designe dein individuelles Fotoprojekt für soz...</td>\n",
              "      <td>['Social Media Marketing', 'Photography', 'Gra...</td>\n",
              "      <td>['Learn step-by-step']</td>\n",
              "      <td>['Michelle Flores']</td>\n",
              "      <td>['Coursera Project Network']</td>\n",
              "      <td>Arts and Humanities</td>\n",
              "      <td>https://www.coursera.org/projects/bearbeite-fo...</td>\n",
              "      <td>0.0</td>\n",
              "      <td>hour</td>\n",
              "    </tr>\n",
              "  </tbody>\n",
              "</table>\n",
              "</div>\n",
              "    <div class=\"colab-df-buttons\">\n",
              "\n",
              "  <div class=\"colab-df-container\">\n",
              "    <button class=\"colab-df-convert\" onclick=\"convertToInteractive('df-e038760d-9c9a-496d-bc14-95459ea2d6e6')\"\n",
              "            title=\"Convert this dataframe to an interactive table.\"\n",
              "            style=\"display:none;\">\n",
              "\n",
              "  <svg xmlns=\"http://www.w3.org/2000/svg\" height=\"24px\" viewBox=\"0 -960 960 960\">\n",
              "    <path d=\"M120-120v-720h720v720H120Zm60-500h600v-160H180v160Zm220 220h160v-160H400v160Zm0 220h160v-160H400v160ZM180-400h160v-160H180v160Zm440 0h160v-160H620v160ZM180-180h160v-160H180v160Zm440 0h160v-160H620v160Z\"/>\n",
              "  </svg>\n",
              "    </button>\n",
              "\n",
              "  <style>\n",
              "    .colab-df-container {\n",
              "      display:flex;\n",
              "      gap: 12px;\n",
              "    }\n",
              "\n",
              "    .colab-df-convert {\n",
              "      background-color: #E8F0FE;\n",
              "      border: none;\n",
              "      border-radius: 50%;\n",
              "      cursor: pointer;\n",
              "      display: none;\n",
              "      fill: #1967D2;\n",
              "      height: 32px;\n",
              "      padding: 0 0 0 0;\n",
              "      width: 32px;\n",
              "    }\n",
              "\n",
              "    .colab-df-convert:hover {\n",
              "      background-color: #E2EBFA;\n",
              "      box-shadow: 0px 1px 2px rgba(60, 64, 67, 0.3), 0px 1px 3px 1px rgba(60, 64, 67, 0.15);\n",
              "      fill: #174EA6;\n",
              "    }\n",
              "\n",
              "    .colab-df-buttons div {\n",
              "      margin-bottom: 4px;\n",
              "    }\n",
              "\n",
              "    [theme=dark] .colab-df-convert {\n",
              "      background-color: #3B4455;\n",
              "      fill: #D2E3FC;\n",
              "    }\n",
              "\n",
              "    [theme=dark] .colab-df-convert:hover {\n",
              "      background-color: #434B5C;\n",
              "      box-shadow: 0px 1px 3px 1px rgba(0, 0, 0, 0.15);\n",
              "      filter: drop-shadow(0px 1px 2px rgba(0, 0, 0, 0.3));\n",
              "      fill: #FFFFFF;\n",
              "    }\n",
              "  </style>\n",
              "\n",
              "    <script>\n",
              "      const buttonEl =\n",
              "        document.querySelector('#df-e038760d-9c9a-496d-bc14-95459ea2d6e6 button.colab-df-convert');\n",
              "      buttonEl.style.display =\n",
              "        google.colab.kernel.accessAllowed ? 'block' : 'none';\n",
              "\n",
              "      async function convertToInteractive(key) {\n",
              "        const element = document.querySelector('#df-e038760d-9c9a-496d-bc14-95459ea2d6e6');\n",
              "        const dataTable =\n",
              "          await google.colab.kernel.invokeFunction('convertToInteractive',\n",
              "                                                    [key], {});\n",
              "        if (!dataTable) return;\n",
              "\n",
              "        const docLinkHtml = 'Like what you see? Visit the ' +\n",
              "          '<a target=\"_blank\" href=https://colab.research.google.com/notebooks/data_table.ipynb>data table notebook</a>'\n",
              "          + ' to learn more about interactive tables.';\n",
              "        element.innerHTML = '';\n",
              "        dataTable['output_type'] = 'display_data';\n",
              "        await google.colab.output.renderOutput(dataTable, element);\n",
              "        const docLink = document.createElement('div');\n",
              "        docLink.innerHTML = docLinkHtml;\n",
              "        element.appendChild(docLink);\n",
              "      }\n",
              "    </script>\n",
              "  </div>\n",
              "\n",
              "\n",
              "<div id=\"df-9b8bc6b8-6bf3-4b36-bb31-06fd79d2b73a\">\n",
              "  <button class=\"colab-df-quickchart\" onclick=\"quickchart('df-9b8bc6b8-6bf3-4b36-bb31-06fd79d2b73a')\"\n",
              "            title=\"Suggest charts\"\n",
              "            style=\"display:none;\">\n",
              "\n",
              "<svg xmlns=\"http://www.w3.org/2000/svg\" height=\"24px\"viewBox=\"0 0 24 24\"\n",
              "     width=\"24px\">\n",
              "    <g>\n",
              "        <path d=\"M19 3H5c-1.1 0-2 .9-2 2v14c0 1.1.9 2 2 2h14c1.1 0 2-.9 2-2V5c0-1.1-.9-2-2-2zM9 17H7v-7h2v7zm4 0h-2V7h2v10zm4 0h-2v-4h2v4z\"/>\n",
              "    </g>\n",
              "</svg>\n",
              "  </button>\n",
              "\n",
              "<style>\n",
              "  .colab-df-quickchart {\n",
              "      --bg-color: #E8F0FE;\n",
              "      --fill-color: #1967D2;\n",
              "      --hover-bg-color: #E2EBFA;\n",
              "      --hover-fill-color: #174EA6;\n",
              "      --disabled-fill-color: #AAA;\n",
              "      --disabled-bg-color: #DDD;\n",
              "  }\n",
              "\n",
              "  [theme=dark] .colab-df-quickchart {\n",
              "      --bg-color: #3B4455;\n",
              "      --fill-color: #D2E3FC;\n",
              "      --hover-bg-color: #434B5C;\n",
              "      --hover-fill-color: #FFFFFF;\n",
              "      --disabled-bg-color: #3B4455;\n",
              "      --disabled-fill-color: #666;\n",
              "  }\n",
              "\n",
              "  .colab-df-quickchart {\n",
              "    background-color: var(--bg-color);\n",
              "    border: none;\n",
              "    border-radius: 50%;\n",
              "    cursor: pointer;\n",
              "    display: none;\n",
              "    fill: var(--fill-color);\n",
              "    height: 32px;\n",
              "    padding: 0;\n",
              "    width: 32px;\n",
              "  }\n",
              "\n",
              "  .colab-df-quickchart:hover {\n",
              "    background-color: var(--hover-bg-color);\n",
              "    box-shadow: 0 1px 2px rgba(60, 64, 67, 0.3), 0 1px 3px 1px rgba(60, 64, 67, 0.15);\n",
              "    fill: var(--button-hover-fill-color);\n",
              "  }\n",
              "\n",
              "  .colab-df-quickchart-complete:disabled,\n",
              "  .colab-df-quickchart-complete:disabled:hover {\n",
              "    background-color: var(--disabled-bg-color);\n",
              "    fill: var(--disabled-fill-color);\n",
              "    box-shadow: none;\n",
              "  }\n",
              "\n",
              "  .colab-df-spinner {\n",
              "    border: 2px solid var(--fill-color);\n",
              "    border-color: transparent;\n",
              "    border-bottom-color: var(--fill-color);\n",
              "    animation:\n",
              "      spin 1s steps(1) infinite;\n",
              "  }\n",
              "\n",
              "  @keyframes spin {\n",
              "    0% {\n",
              "      border-color: transparent;\n",
              "      border-bottom-color: var(--fill-color);\n",
              "      border-left-color: var(--fill-color);\n",
              "    }\n",
              "    20% {\n",
              "      border-color: transparent;\n",
              "      border-left-color: var(--fill-color);\n",
              "      border-top-color: var(--fill-color);\n",
              "    }\n",
              "    30% {\n",
              "      border-color: transparent;\n",
              "      border-left-color: var(--fill-color);\n",
              "      border-top-color: var(--fill-color);\n",
              "      border-right-color: var(--fill-color);\n",
              "    }\n",
              "    40% {\n",
              "      border-color: transparent;\n",
              "      border-right-color: var(--fill-color);\n",
              "      border-top-color: var(--fill-color);\n",
              "    }\n",
              "    60% {\n",
              "      border-color: transparent;\n",
              "      border-right-color: var(--fill-color);\n",
              "    }\n",
              "    80% {\n",
              "      border-color: transparent;\n",
              "      border-right-color: var(--fill-color);\n",
              "      border-bottom-color: var(--fill-color);\n",
              "    }\n",
              "    90% {\n",
              "      border-color: transparent;\n",
              "      border-bottom-color: var(--fill-color);\n",
              "    }\n",
              "  }\n",
              "</style>\n",
              "\n",
              "  <script>\n",
              "    async function quickchart(key) {\n",
              "      const quickchartButtonEl =\n",
              "        document.querySelector('#' + key + ' button');\n",
              "      quickchartButtonEl.disabled = true;  // To prevent multiple clicks.\n",
              "      quickchartButtonEl.classList.add('colab-df-spinner');\n",
              "      try {\n",
              "        const charts = await google.colab.kernel.invokeFunction(\n",
              "            'suggestCharts', [key], {});\n",
              "      } catch (error) {\n",
              "        console.error('Error during call to suggestCharts:', error);\n",
              "      }\n",
              "      quickchartButtonEl.classList.remove('colab-df-spinner');\n",
              "      quickchartButtonEl.classList.add('colab-df-quickchart-complete');\n",
              "    }\n",
              "    (() => {\n",
              "      let quickchartButtonEl =\n",
              "        document.querySelector('#df-9b8bc6b8-6bf3-4b36-bb31-06fd79d2b73a button');\n",
              "      quickchartButtonEl.style.display =\n",
              "        google.colab.kernel.accessAllowed ? 'block' : 'none';\n",
              "    })();\n",
              "  </script>\n",
              "</div>\n",
              "\n",
              "    </div>\n",
              "  </div>\n"
            ],
            "application/vnd.google.colaboratory.intrinsic+json": {
              "type": "dataframe",
              "repr_error": "0"
            }
          },
          "metadata": {},
          "execution_count": 6
        }
      ]
    },
    {
      "cell_type": "markdown",
      "source": [
        "### Level\n",
        "* I will remove the redundant word \"level\" for readability purposes\n",
        "* The string will be lowercase\n",
        "* Empty values will be replaced with \"not_defined\""
      ],
      "metadata": {
        "id": "ECRcUWBqFYBO"
      }
    },
    {
      "cell_type": "code",
      "source": [
        "dataframe['Level'] = (\n",
        "    dataframe['Level']\n",
        "    .fillna('')                             # Handle None values\n",
        "    .str.lower()                            # Convert to lowercase\n",
        "    .str.replace('level', '', regex=False) # Remove the word 'level'\n",
        "    .str.strip()                            # Remove leading/trailing spaces\n",
        "    .replace('', 'not_defined')            # Replace empty strings with default\n",
        ")\n",
        "\n",
        "dataframe.loc[pd.isna(dataframe[\"Level\"])].head() # should print no values"
      ],
      "metadata": {
        "colab": {
          "base_uri": "https://localhost:8080/",
          "height": 67
        },
        "id": "3TunNLZoGAHa",
        "outputId": "5d4133a7-5dfe-40b1-dd65-90c21f9bd88d"
      },
      "execution_count": 7,
      "outputs": [
        {
          "output_type": "execute_result",
          "data": {
            "text/plain": [
              "Empty DataFrame\n",
              "Columns: [Course Title, Rating, Level, Duration, Schedule, Review, What you will learn, Skill gain, Modules, Instructor, Offered By, Keyword, Course Url, ammountOfHours, courseLengthBaseUnit]\n",
              "Index: []"
            ],
            "text/html": [
              "\n",
              "  <div id=\"df-0e1fba2d-ea3b-4324-94d2-f2d63f6360ad\" class=\"colab-df-container\">\n",
              "    <div>\n",
              "<style scoped>\n",
              "    .dataframe tbody tr th:only-of-type {\n",
              "        vertical-align: middle;\n",
              "    }\n",
              "\n",
              "    .dataframe tbody tr th {\n",
              "        vertical-align: top;\n",
              "    }\n",
              "\n",
              "    .dataframe thead th {\n",
              "        text-align: right;\n",
              "    }\n",
              "</style>\n",
              "<table border=\"1\" class=\"dataframe\">\n",
              "  <thead>\n",
              "    <tr style=\"text-align: right;\">\n",
              "      <th></th>\n",
              "      <th>Course Title</th>\n",
              "      <th>Rating</th>\n",
              "      <th>Level</th>\n",
              "      <th>Duration</th>\n",
              "      <th>Schedule</th>\n",
              "      <th>Review</th>\n",
              "      <th>What you will learn</th>\n",
              "      <th>Skill gain</th>\n",
              "      <th>Modules</th>\n",
              "      <th>Instructor</th>\n",
              "      <th>Offered By</th>\n",
              "      <th>Keyword</th>\n",
              "      <th>Course Url</th>\n",
              "      <th>ammountOfHours</th>\n",
              "      <th>courseLengthBaseUnit</th>\n",
              "    </tr>\n",
              "  </thead>\n",
              "  <tbody>\n",
              "  </tbody>\n",
              "</table>\n",
              "</div>\n",
              "    <div class=\"colab-df-buttons\">\n",
              "\n",
              "  <div class=\"colab-df-container\">\n",
              "    <button class=\"colab-df-convert\" onclick=\"convertToInteractive('df-0e1fba2d-ea3b-4324-94d2-f2d63f6360ad')\"\n",
              "            title=\"Convert this dataframe to an interactive table.\"\n",
              "            style=\"display:none;\">\n",
              "\n",
              "  <svg xmlns=\"http://www.w3.org/2000/svg\" height=\"24px\" viewBox=\"0 -960 960 960\">\n",
              "    <path d=\"M120-120v-720h720v720H120Zm60-500h600v-160H180v160Zm220 220h160v-160H400v160Zm0 220h160v-160H400v160ZM180-400h160v-160H180v160Zm440 0h160v-160H620v160ZM180-180h160v-160H180v160Zm440 0h160v-160H620v160Z\"/>\n",
              "  </svg>\n",
              "    </button>\n",
              "\n",
              "  <style>\n",
              "    .colab-df-container {\n",
              "      display:flex;\n",
              "      gap: 12px;\n",
              "    }\n",
              "\n",
              "    .colab-df-convert {\n",
              "      background-color: #E8F0FE;\n",
              "      border: none;\n",
              "      border-radius: 50%;\n",
              "      cursor: pointer;\n",
              "      display: none;\n",
              "      fill: #1967D2;\n",
              "      height: 32px;\n",
              "      padding: 0 0 0 0;\n",
              "      width: 32px;\n",
              "    }\n",
              "\n",
              "    .colab-df-convert:hover {\n",
              "      background-color: #E2EBFA;\n",
              "      box-shadow: 0px 1px 2px rgba(60, 64, 67, 0.3), 0px 1px 3px 1px rgba(60, 64, 67, 0.15);\n",
              "      fill: #174EA6;\n",
              "    }\n",
              "\n",
              "    .colab-df-buttons div {\n",
              "      margin-bottom: 4px;\n",
              "    }\n",
              "\n",
              "    [theme=dark] .colab-df-convert {\n",
              "      background-color: #3B4455;\n",
              "      fill: #D2E3FC;\n",
              "    }\n",
              "\n",
              "    [theme=dark] .colab-df-convert:hover {\n",
              "      background-color: #434B5C;\n",
              "      box-shadow: 0px 1px 3px 1px rgba(0, 0, 0, 0.15);\n",
              "      filter: drop-shadow(0px 1px 2px rgba(0, 0, 0, 0.3));\n",
              "      fill: #FFFFFF;\n",
              "    }\n",
              "  </style>\n",
              "\n",
              "    <script>\n",
              "      const buttonEl =\n",
              "        document.querySelector('#df-0e1fba2d-ea3b-4324-94d2-f2d63f6360ad button.colab-df-convert');\n",
              "      buttonEl.style.display =\n",
              "        google.colab.kernel.accessAllowed ? 'block' : 'none';\n",
              "\n",
              "      async function convertToInteractive(key) {\n",
              "        const element = document.querySelector('#df-0e1fba2d-ea3b-4324-94d2-f2d63f6360ad');\n",
              "        const dataTable =\n",
              "          await google.colab.kernel.invokeFunction('convertToInteractive',\n",
              "                                                    [key], {});\n",
              "        if (!dataTable) return;\n",
              "\n",
              "        const docLinkHtml = 'Like what you see? Visit the ' +\n",
              "          '<a target=\"_blank\" href=https://colab.research.google.com/notebooks/data_table.ipynb>data table notebook</a>'\n",
              "          + ' to learn more about interactive tables.';\n",
              "        element.innerHTML = '';\n",
              "        dataTable['output_type'] = 'display_data';\n",
              "        await google.colab.output.renderOutput(dataTable, element);\n",
              "        const docLink = document.createElement('div');\n",
              "        docLink.innerHTML = docLinkHtml;\n",
              "        element.appendChild(docLink);\n",
              "      }\n",
              "    </script>\n",
              "  </div>\n",
              "\n",
              "\n",
              "    </div>\n",
              "  </div>\n"
            ],
            "application/vnd.google.colaboratory.intrinsic+json": {
              "type": "dataframe",
              "repr_error": "Out of range float values are not JSON compliant: nan"
            }
          },
          "metadata": {},
          "execution_count": 7
        }
      ]
    },
    {
      "cell_type": "markdown",
      "source": [
        "### Reviews\n",
        "* Will be transformed to a numeric value using regex"
      ],
      "metadata": {
        "id": "ioClVXQbI6jU"
      }
    },
    {
      "cell_type": "code",
      "source": [
        "dataframe[\"Review\"] = (\n",
        "    dataframe[\"Review\"]\n",
        "    .fillna('0')\n",
        "    .str.extract(r'([\\d,]+)')[0]                     # Extract digits with commas\n",
        "    .str.replace(',', '', regex=False)\n",
        "    .fillna('0')\n",
        "    .astype(int)\n",
        ")\n",
        "\n",
        "dataframe.loc[pd.isna(dataframe[\"Review\"])] # should print no values"
      ],
      "metadata": {
        "colab": {
          "base_uri": "https://localhost:8080/",
          "height": 67
        },
        "id": "uHhsDpqqI8RL",
        "outputId": "5f290209-982f-49f7-8dca-48d2a3e83ff9"
      },
      "execution_count": 8,
      "outputs": [
        {
          "output_type": "execute_result",
          "data": {
            "text/plain": [
              "Empty DataFrame\n",
              "Columns: [Course Title, Rating, Level, Duration, Schedule, Review, What you will learn, Skill gain, Modules, Instructor, Offered By, Keyword, Course Url, ammountOfHours, courseLengthBaseUnit]\n",
              "Index: []"
            ],
            "text/html": [
              "\n",
              "  <div id=\"df-f4667313-05a6-4473-91a1-3d4cd9ee8601\" class=\"colab-df-container\">\n",
              "    <div>\n",
              "<style scoped>\n",
              "    .dataframe tbody tr th:only-of-type {\n",
              "        vertical-align: middle;\n",
              "    }\n",
              "\n",
              "    .dataframe tbody tr th {\n",
              "        vertical-align: top;\n",
              "    }\n",
              "\n",
              "    .dataframe thead th {\n",
              "        text-align: right;\n",
              "    }\n",
              "</style>\n",
              "<table border=\"1\" class=\"dataframe\">\n",
              "  <thead>\n",
              "    <tr style=\"text-align: right;\">\n",
              "      <th></th>\n",
              "      <th>Course Title</th>\n",
              "      <th>Rating</th>\n",
              "      <th>Level</th>\n",
              "      <th>Duration</th>\n",
              "      <th>Schedule</th>\n",
              "      <th>Review</th>\n",
              "      <th>What you will learn</th>\n",
              "      <th>Skill gain</th>\n",
              "      <th>Modules</th>\n",
              "      <th>Instructor</th>\n",
              "      <th>Offered By</th>\n",
              "      <th>Keyword</th>\n",
              "      <th>Course Url</th>\n",
              "      <th>ammountOfHours</th>\n",
              "      <th>courseLengthBaseUnit</th>\n",
              "    </tr>\n",
              "  </thead>\n",
              "  <tbody>\n",
              "  </tbody>\n",
              "</table>\n",
              "</div>\n",
              "    <div class=\"colab-df-buttons\">\n",
              "\n",
              "  <div class=\"colab-df-container\">\n",
              "    <button class=\"colab-df-convert\" onclick=\"convertToInteractive('df-f4667313-05a6-4473-91a1-3d4cd9ee8601')\"\n",
              "            title=\"Convert this dataframe to an interactive table.\"\n",
              "            style=\"display:none;\">\n",
              "\n",
              "  <svg xmlns=\"http://www.w3.org/2000/svg\" height=\"24px\" viewBox=\"0 -960 960 960\">\n",
              "    <path d=\"M120-120v-720h720v720H120Zm60-500h600v-160H180v160Zm220 220h160v-160H400v160Zm0 220h160v-160H400v160ZM180-400h160v-160H180v160Zm440 0h160v-160H620v160ZM180-180h160v-160H180v160Zm440 0h160v-160H620v160Z\"/>\n",
              "  </svg>\n",
              "    </button>\n",
              "\n",
              "  <style>\n",
              "    .colab-df-container {\n",
              "      display:flex;\n",
              "      gap: 12px;\n",
              "    }\n",
              "\n",
              "    .colab-df-convert {\n",
              "      background-color: #E8F0FE;\n",
              "      border: none;\n",
              "      border-radius: 50%;\n",
              "      cursor: pointer;\n",
              "      display: none;\n",
              "      fill: #1967D2;\n",
              "      height: 32px;\n",
              "      padding: 0 0 0 0;\n",
              "      width: 32px;\n",
              "    }\n",
              "\n",
              "    .colab-df-convert:hover {\n",
              "      background-color: #E2EBFA;\n",
              "      box-shadow: 0px 1px 2px rgba(60, 64, 67, 0.3), 0px 1px 3px 1px rgba(60, 64, 67, 0.15);\n",
              "      fill: #174EA6;\n",
              "    }\n",
              "\n",
              "    .colab-df-buttons div {\n",
              "      margin-bottom: 4px;\n",
              "    }\n",
              "\n",
              "    [theme=dark] .colab-df-convert {\n",
              "      background-color: #3B4455;\n",
              "      fill: #D2E3FC;\n",
              "    }\n",
              "\n",
              "    [theme=dark] .colab-df-convert:hover {\n",
              "      background-color: #434B5C;\n",
              "      box-shadow: 0px 1px 3px 1px rgba(0, 0, 0, 0.15);\n",
              "      filter: drop-shadow(0px 1px 2px rgba(0, 0, 0, 0.3));\n",
              "      fill: #FFFFFF;\n",
              "    }\n",
              "  </style>\n",
              "\n",
              "    <script>\n",
              "      const buttonEl =\n",
              "        document.querySelector('#df-f4667313-05a6-4473-91a1-3d4cd9ee8601 button.colab-df-convert');\n",
              "      buttonEl.style.display =\n",
              "        google.colab.kernel.accessAllowed ? 'block' : 'none';\n",
              "\n",
              "      async function convertToInteractive(key) {\n",
              "        const element = document.querySelector('#df-f4667313-05a6-4473-91a1-3d4cd9ee8601');\n",
              "        const dataTable =\n",
              "          await google.colab.kernel.invokeFunction('convertToInteractive',\n",
              "                                                    [key], {});\n",
              "        if (!dataTable) return;\n",
              "\n",
              "        const docLinkHtml = 'Like what you see? Visit the ' +\n",
              "          '<a target=\"_blank\" href=https://colab.research.google.com/notebooks/data_table.ipynb>data table notebook</a>'\n",
              "          + ' to learn more about interactive tables.';\n",
              "        element.innerHTML = '';\n",
              "        dataTable['output_type'] = 'display_data';\n",
              "        await google.colab.output.renderOutput(dataTable, element);\n",
              "        const docLink = document.createElement('div');\n",
              "        docLink.innerHTML = docLinkHtml;\n",
              "        element.appendChild(docLink);\n",
              "      }\n",
              "    </script>\n",
              "  </div>\n",
              "\n",
              "\n",
              "    </div>\n",
              "  </div>\n"
            ],
            "application/vnd.google.colaboratory.intrinsic+json": {
              "type": "dataframe",
              "repr_error": "Out of range float values are not JSON compliant: nan"
            }
          },
          "metadata": {},
          "execution_count": 8
        }
      ]
    },
    {
      "cell_type": "markdown",
      "source": [
        "### Schedule\n",
        "* Column will be Renamed to \"SchedFlexibility\" for comprehensibility purposes\n",
        "* Value will be \"true\" or \"false\" boolean values"
      ],
      "metadata": {
        "id": "qC0j-_Gcgs3J"
      }
    },
    {
      "cell_type": "code",
      "source": [
        "dataframe[\"Schedule\"] = dataframe['Schedule'].apply(\n",
        "    lambda x: isinstance(x, str) and 'flexible' in x.lower()\n",
        ")\n",
        "\n",
        "dataframe.rename(columns={'Schedule': 'SchedFlexibility'}, inplace = True)\n"
      ],
      "metadata": {
        "id": "4g3mYUB-jVr2"
      },
      "execution_count": 9,
      "outputs": []
    },
    {
      "cell_type": "markdown",
      "source": [
        "### Cleaning\n",
        "Removing duplicates is simple since we should not have any NaN(numpy) values any more"
      ],
      "metadata": {
        "id": "nmwpI4taIsiz"
      }
    },
    {
      "cell_type": "code",
      "source": [
        "unique_entries = dataframe.drop_duplicates()"
      ],
      "metadata": {
        "id": "jzJlasCII2Bt"
      },
      "execution_count": 10,
      "outputs": []
    },
    {
      "cell_type": "markdown",
      "source": [
        "## Bar Plot\n",
        "Quantity of courses by \"Level\" bar plot. We can appreciatte that there is a good ammount of courses without a designated level"
      ],
      "metadata": {
        "id": "E2YPBwT3H8UM"
      }
    },
    {
      "cell_type": "code",
      "source": [
        "# count how many unique course titles exist per level\n",
        "course_count_by_level = unique_entries.groupby('Level').size().reset_index(name='Course Count')\n",
        "\n",
        "course_count_by_level = course_count_by_level.sort_values('Course Count', ascending=True)\n",
        "\n",
        "plt.figure(figsize=(8, 5))\n",
        "plt.bar(course_count_by_level['Level'], course_count_by_level['Course Count'], color='skyblue')\n",
        "plt.xlabel('Levels')\n",
        "plt.title('Number of Courses by Level')\n",
        "plt.tight_layout()\n",
        "plt.show()\n",
        "\n"
      ],
      "metadata": {
        "colab": {
          "base_uri": "https://localhost:8080/",
          "height": 507
        },
        "id": "MD0nOsCuSMe7",
        "outputId": "645c47e1-9b20-427f-af63-ea37d1c3aa23"
      },
      "execution_count": 11,
      "outputs": [
        {
          "output_type": "display_data",
          "data": {
            "text/plain": [
              "<Figure size 800x500 with 1 Axes>"
            ],
            "image/png": "[encoded data removed]"
          },
          "metadata": {}
        }
      ]
    },
    {
      "cell_type": "markdown",
      "source": [
        "## Horizontal Bar Plot\n",
        "Quantity of courses by \"Keyword\"(category) bar plot"
      ],
      "metadata": {
        "id": "2zmAM_LLIYhk"
      }
    },
    {
      "cell_type": "code",
      "source": [
        "# Count how many unique courses in each categories exist\n",
        "course_count_by_category = unique_entries.groupby('Keyword').size().reset_index(name='Course Count')\n",
        "\n",
        "course_count_by_category = course_count_by_category.sort_values('Course Count', ascending=True)\n",
        "\n",
        "plt.figure(figsize=(24, 8))\n",
        "plt.barh(course_count_by_category['Keyword'], course_count_by_category['Course Count'], color='skyblue')\n",
        "plt.xlabel('Course Quantity')\n",
        "plt.title('Number of Courses by Category')\n",
        "plt.tight_layout()\n",
        "plt.show()"
      ],
      "metadata": {
        "colab": {
          "base_uri": "https://localhost:8080/",
          "height": 482
        },
        "id": "pcbMJzuq_sRM",
        "outputId": "50417c68-2b3f-4ed9-b7b2-e2bee32f7b64"
      },
      "execution_count": 12,
      "outputs": [
        {
          "output_type": "display_data",
          "data": {
            "text/plain": [
              "<Figure size 2400x800 with 1 Axes>"
            ],
            "image/png": "[encoded data removed]"
          },
          "metadata": {}
        }
      ]
    },
    {
      "cell_type": "markdown",
      "source": [
        "## Scatter Bar Plot(dispercion)\n",
        "Shows the relationship between the course duration and the number of reviews"
      ],
      "metadata": {
        "id": "NGqDA3a3XDfp"
      }
    },
    {
      "cell_type": "code",
      "source": [
        "plt.figure(figsize=(12, 8))\n",
        "plt.scatter(x= unique_entries['ammountOfHours'], y= unique_entries['Review'], alpha=0.5, color='purple')\n",
        "plt.xlabel('Course Duration (hours)')\n",
        "plt.ylabel('Number of Reviews')\n",
        "plt.title('Course Duration vs Review Count')\n",
        "plt.tight_layout()\n",
        "plt.show()\n",
        "\n"
      ],
      "metadata": {
        "colab": {
          "base_uri": "https://localhost:8080/",
          "height": 807
        },
        "id": "1mKdRKmZXFRY",
        "outputId": "b5ec57d0-75b6-4587-f902-1d577cda3bb4"
      },
      "execution_count": 13,
      "outputs": [
        {
          "output_type": "display_data",
          "data": {
            "text/plain": [
              "<Figure size 1200x800 with 1 Axes>"
            ],
            "image/png": "[encoded data removed]"
          },
          "metadata": {}
        }
      ]
    },
    {
      "cell_type": "markdown",
      "source": [
        "## Histogram Plot(Histograma)\n",
        "Shows distribution of the courses duration(time ammount in hours), this shows that there is more courses that last a few hours, there is more than 4,000 courses that last maybe less than 5 or 8 hours"
      ],
      "metadata": {
        "id": "LGWWd5JBRLGI"
      }
    },
    {
      "cell_type": "code",
      "source": [
        "data = unique_entries['ammountOfHours']\n",
        "\n",
        "plt.hist(data, bins=30, color='skyblue', edgecolor='black')\n",
        "\n",
        "plt.xlabel('Hours')\n",
        "plt.ylabel('Number of Courses')\n",
        "plt.title('Courses by Hours')\n",
        "\n",
        "# Display the plot\n",
        "plt.show()"
      ],
      "metadata": {
        "colab": {
          "base_uri": "https://localhost:8080/",
          "height": 472
        },
        "id": "QTkvEQBTtTgW",
        "outputId": "a6e07d19-a376-4f1b-8e6b-e977690d4ecd"
      },
      "execution_count": 14,
      "outputs": [
        {
          "output_type": "display_data",
          "data": {
            "text/plain": [
              "<Figure size 640x480 with 1 Axes>"
            ],
            "image/png": "[encoded data removed]"
          },
          "metadata": {}
        }
      ]
    },
    {
      "cell_type": "markdown",
      "source": [
        "## Boxplot Plot\n",
        "Plot by \"Level\", here we can se the median of rating in each level and also the highest and the lowest values"
      ],
      "metadata": {
        "id": "GtTw1DgMTUFH"
      }
    },
    {
      "cell_type": "code",
      "source": [
        "# drop columns with Ratings with values of 0.0, which is what I assigned to columns\n",
        "# that didn't have rating, because it could mess up this analysis\n",
        "unique_courses = unique_entries[unique_entries['Rating'] != 0.0]\n",
        "\n",
        "plt.figure(figsize=(12, 8))\n",
        "unique_courses.boxplot(column=\"Rating\", by=\"Level\", notch=True)\n",
        "plt.title('Course Ratings by Level')\n",
        "plt.suptitle('')  # Remove the automatic suptitle from pandas boxplot\n",
        "plt.xlabel('Level')\n",
        "plt.ylabel('Rating')\n",
        "plt.tight_layout()\n",
        "plt.show()\n"
      ],
      "metadata": {
        "colab": {
          "base_uri": "https://localhost:8080/",
          "height": 489
        },
        "id": "hNCJUNS64BO5",
        "outputId": "ed10d854-3121-4812-f11f-f436ecfae0d6"
      },
      "execution_count": 15,
      "outputs": [
        {
          "output_type": "display_data",
          "data": {
            "text/plain": [
              "<Figure size 1200x800 with 0 Axes>"
            ]
          },
          "metadata": {}
        },
        {
          "output_type": "display_data",
          "data": {
            "text/plain": [
              "<Figure size 640x480 with 1 Axes>"
            ],
            "image/png": "[encoded data removed]"
          },
          "metadata": {}
        }
      ]
    },
    {
      "cell_type": "markdown",
      "source": [
        "# Analysis\n",
        "I will use Numpy to be a able to perform some operations to get the values I want to find"
      ],
      "metadata": {
        "id": "RSLiGSIjULKd"
      }
    },
    {
      "cell_type": "markdown",
      "source": [
        "## Courses Rating Average\n",
        "Here I group same courses entries and calculate the average rating per course"
      ],
      "metadata": {
        "id": "Yjr4kObw7p9O"
      }
    },
    {
      "cell_type": "code",
      "source": [
        "# unique_courses = dataframe.groupby(['Level', 'Course Title','Instructor', 'Review', 'ammountOfHours']).size().reset_index(name=\"count\")\n",
        "# unique_courses = dataframe.drop_duplicates(subset=['Level', 'Course Title', 'Instructor', 'Rating', 'Review', 'ammountOfHours'])\n",
        "\n",
        "# # unique_courses removes all courses that have the, Level\n",
        "# review_variations = unique_courses.groupby(['Course Title', 'Instructor', 'ammountOfHours']).size().reset_index(name='count')\n",
        "\n",
        "# review_variations.loc[review_variations['count'] > 1]\n",
        "\n",
        "# len(review_variations)\n",
        "\n",
        "# average_ratings = unique_courses.groupby(['Level', 'Course Title', 'Instructor', 'ammountOfHours'])['Rating'].mean().reset_index(name='Average Rating')\n",
        "\n",
        "# agg_courses = dataframe.groupby(['Level', 'Course Title', 'Instructor', 'ammountOfHours']).agg({\n",
        "#     'Rating': 'mean',\n",
        "#     'Review': 'sum'  # or 'mean' if you'd rather average review counts too\n",
        "# }).reset_index()\n",
        "\n",
        "# len(average_ratings)\n",
        "\n",
        "\n",
        "# unique_courses.loc[unique_courses['count'] == 9]\n",
        "\n",
        "# unique_courses = dataframe.drop_duplicates(subset=['Level', 'Course Title', 'Instructor', 'Rating', 'Review', 'ammountOfHours'])\n",
        "\n",
        "\n",
        "\n",
        "# unique_entries = dataframe.drop_duplicates()\n",
        "\n",
        "# Rows with Rating 0 are the ones I transformed but in this analysis they might\n",
        "# affect the result so I will remove them\n",
        "filtered_entries = unique_entries[unique_entries['Rating'] != 0]\n",
        "\n",
        "# Group same courses and get the average rating\n",
        "average_ratings = filtered_entries.groupby(['Level', 'Course Title', 'Instructor', 'ammountOfHours'])['Rating'].mean().reset_index(name='average')\n",
        "\n",
        "# group = average_ratings.loc[average_ratings['average'] < 2]\n",
        "\n",
        "print('Muestra de los promedios de los ratings por curso:')\n",
        "print('')\n",
        "display(average_ratings.head())\n"
      ],
      "metadata": {
        "colab": {
          "base_uri": "https://localhost:8080/",
          "height": 242
        },
        "id": "eXmPxyZEx4xr",
        "outputId": "86fe86c1-ed78-42d2-87bb-31ac905cde3e"
      },
      "execution_count": 16,
      "outputs": [
        {
          "output_type": "stream",
          "name": "stdout",
          "text": [
            "Muestra de los promedios de los ratings por curso:\n",
            "\n"
          ]
        },
        {
          "output_type": "display_data",
          "data": {
            "text/plain": [
              "      Level                                       Course Title  \\\n",
              "0  advanced   Manejo del enfermo semicrítico y crítico por ...   \n",
              "1  advanced          3-Axis Machining with Autodesk Fusion 360   \n",
              "2  advanced         3D Model Creation with Autodesk Fusion 360   \n",
              "3  advanced            AI Capstone Project with Deep Learning    \n",
              "4  advanced              Active Optical Devices Specialization   \n",
              "\n",
              "                                          Instructor  ammountOfHours  average  \n",
              "0  ['Josep Maria Nicolás Arfelis', 'Esther León C...            37.0      4.8  \n",
              "1                                                 []            27.0      4.9  \n",
              "2                                                 []            14.0      4.8  \n",
              "3            ['Alex Aklson', 'Joseph Santarcangelo']            15.0      4.5  \n",
              "4                                ['Juliet Gopinath']            43.3      4.1  "
            ],
            "text/html": [
              "\n",
              "  <div id=\"df-148ad587-000b-4536-9319-b29e94d3268d\" class=\"colab-df-container\">\n",
              "    <div>\n",
              "<style scoped>\n",
              "    .dataframe tbody tr th:only-of-type {\n",
              "        vertical-align: middle;\n",
              "    }\n",
              "\n",
              "    .dataframe tbody tr th {\n",
              "        vertical-align: top;\n",
              "    }\n",
              "\n",
              "    .dataframe thead th {\n",
              "        text-align: right;\n",
              "    }\n",
              "</style>\n",
              "<table border=\"1\" class=\"dataframe\">\n",
              "  <thead>\n",
              "    <tr style=\"text-align: right;\">\n",
              "      <th></th>\n",
              "      <th>Level</th>\n",
              "      <th>Course Title</th>\n",
              "      <th>Instructor</th>\n",
              "      <th>ammountOfHours</th>\n",
              "      <th>average</th>\n",
              "    </tr>\n",
              "  </thead>\n",
              "  <tbody>\n",
              "    <tr>\n",
              "      <th>0</th>\n",
              "      <td>advanced</td>\n",
              "      <td>Manejo del enfermo semicrítico y crítico por ...</td>\n",
              "      <td>['Josep Maria Nicolás Arfelis', 'Esther León C...</td>\n",
              "      <td>37.0</td>\n",
              "      <td>4.8</td>\n",
              "    </tr>\n",
              "    <tr>\n",
              "      <th>1</th>\n",
              "      <td>advanced</td>\n",
              "      <td>3-Axis Machining with Autodesk Fusion 360</td>\n",
              "      <td>[]</td>\n",
              "      <td>27.0</td>\n",
              "      <td>4.9</td>\n",
              "    </tr>\n",
              "    <tr>\n",
              "      <th>2</th>\n",
              "      <td>advanced</td>\n",
              "      <td>3D Model Creation with Autodesk Fusion 360</td>\n",
              "      <td>[]</td>\n",
              "      <td>14.0</td>\n",
              "      <td>4.8</td>\n",
              "    </tr>\n",
              "    <tr>\n",
              "      <th>3</th>\n",
              "      <td>advanced</td>\n",
              "      <td>AI Capstone Project with Deep Learning</td>\n",
              "      <td>['Alex Aklson', 'Joseph Santarcangelo']</td>\n",
              "      <td>15.0</td>\n",
              "      <td>4.5</td>\n",
              "    </tr>\n",
              "    <tr>\n",
              "      <th>4</th>\n",
              "      <td>advanced</td>\n",
              "      <td>Active Optical Devices Specialization</td>\n",
              "      <td>['Juliet Gopinath']</td>\n",
              "      <td>43.3</td>\n",
              "      <td>4.1</td>\n",
              "    </tr>\n",
              "  </tbody>\n",
              "</table>\n",
              "</div>\n",
              "    <div class=\"colab-df-buttons\">\n",
              "\n",
              "  <div class=\"colab-df-container\">\n",
              "    <button class=\"colab-df-convert\" onclick=\"convertToInteractive('df-148ad587-000b-4536-9319-b29e94d3268d')\"\n",
              "            title=\"Convert this dataframe to an interactive table.\"\n",
              "            style=\"display:none;\">\n",
              "\n",
              "  <svg xmlns=\"http://www.w3.org/2000/svg\" height=\"24px\" viewBox=\"0 -960 960 960\">\n",
              "    <path d=\"M120-120v-720h720v720H120Zm60-500h600v-160H180v160Zm220 220h160v-160H400v160Zm0 220h160v-160H400v160ZM180-400h160v-160H180v160Zm440 0h160v-160H620v160ZM180-180h160v-160H180v160Zm440 0h160v-160H620v160Z\"/>\n",
              "  </svg>\n",
              "    </button>\n",
              "\n",
              "  <style>\n",
              "    .colab-df-container {\n",
              "      display:flex;\n",
              "      gap: 12px;\n",
              "    }\n",
              "\n",
              "    .colab-df-convert {\n",
              "      background-color: #E8F0FE;\n",
              "      border: none;\n",
              "      border-radius: 50%;\n",
              "      cursor: pointer;\n",
              "      display: none;\n",
              "      fill: #1967D2;\n",
              "      height: 32px;\n",
              "      padding: 0 0 0 0;\n",
              "      width: 32px;\n",
              "    }\n",
              "\n",
              "    .colab-df-convert:hover {\n",
              "      background-color: #E2EBFA;\n",
              "      box-shadow: 0px 1px 2px rgba(60, 64, 67, 0.3), 0px 1px 3px 1px rgba(60, 64, 67, 0.15);\n",
              "      fill: #174EA6;\n",
              "    }\n",
              "\n",
              "    .colab-df-buttons div {\n",
              "      margin-bottom: 4px;\n",
              "    }\n",
              "\n",
              "    [theme=dark] .colab-df-convert {\n",
              "      background-color: #3B4455;\n",
              "      fill: #D2E3FC;\n",
              "    }\n",
              "\n",
              "    [theme=dark] .colab-df-convert:hover {\n",
              "      background-color: #434B5C;\n",
              "      box-shadow: 0px 1px 3px 1px rgba(0, 0, 0, 0.15);\n",
              "      filter: drop-shadow(0px 1px 2px rgba(0, 0, 0, 0.3));\n",
              "      fill: #FFFFFF;\n",
              "    }\n",
              "  </style>\n",
              "\n",
              "    <script>\n",
              "      const buttonEl =\n",
              "        document.querySelector('#df-148ad587-000b-4536-9319-b29e94d3268d button.colab-df-convert');\n",
              "      buttonEl.style.display =\n",
              "        google.colab.kernel.accessAllowed ? 'block' : 'none';\n",
              "\n",
              "      async function convertToInteractive(key) {\n",
              "        const element = document.querySelector('#df-148ad587-000b-4536-9319-b29e94d3268d');\n",
              "        const dataTable =\n",
              "          await google.colab.kernel.invokeFunction('convertToInteractive',\n",
              "                                                    [key], {});\n",
              "        if (!dataTable) return;\n",
              "\n",
              "        const docLinkHtml = 'Like what you see? Visit the ' +\n",
              "          '<a target=\"_blank\" href=https://colab.research.google.com/notebooks/data_table.ipynb>data table notebook</a>'\n",
              "          + ' to learn more about interactive tables.';\n",
              "        element.innerHTML = '';\n",
              "        dataTable['output_type'] = 'display_data';\n",
              "        await google.colab.output.renderOutput(dataTable, element);\n",
              "        const docLink = document.createElement('div');\n",
              "        docLink.innerHTML = docLinkHtml;\n",
              "        element.appendChild(docLink);\n",
              "      }\n",
              "    </script>\n",
              "  </div>\n",
              "\n",
              "\n",
              "<div id=\"df-431d0f0e-ab7a-4b96-b281-e9052dbb502c\">\n",
              "  <button class=\"colab-df-quickchart\" onclick=\"quickchart('df-431d0f0e-ab7a-4b96-b281-e9052dbb502c')\"\n",
              "            title=\"Suggest charts\"\n",
              "            style=\"display:none;\">\n",
              "\n",
              "<svg xmlns=\"http://www.w3.org/2000/svg\" height=\"24px\"viewBox=\"0 0 24 24\"\n",
              "     width=\"24px\">\n",
              "    <g>\n",
              "        <path d=\"M19 3H5c-1.1 0-2 .9-2 2v14c0 1.1.9 2 2 2h14c1.1 0 2-.9 2-2V5c0-1.1-.9-2-2-2zM9 17H7v-7h2v7zm4 0h-2V7h2v10zm4 0h-2v-4h2v4z\"/>\n",
              "    </g>\n",
              "</svg>\n",
              "  </button>\n",
              "\n",
              "<style>\n",
              "  .colab-df-quickchart {\n",
              "      --bg-color: #E8F0FE;\n",
              "      --fill-color: #1967D2;\n",
              "      --hover-bg-color: #E2EBFA;\n",
              "      --hover-fill-color: #174EA6;\n",
              "      --disabled-fill-color: #AAA;\n",
              "      --disabled-bg-color: #DDD;\n",
              "  }\n",
              "\n",
              "  [theme=dark] .colab-df-quickchart {\n",
              "      --bg-color: #3B4455;\n",
              "      --fill-color: #D2E3FC;\n",
              "      --hover-bg-color: #434B5C;\n",
              "      --hover-fill-color: #FFFFFF;\n",
              "      --disabled-bg-color: #3B4455;\n",
              "      --disabled-fill-color: #666;\n",
              "  }\n",
              "\n",
              "  .colab-df-quickchart {\n",
              "    background-color: var(--bg-color);\n",
              "    border: none;\n",
              "    border-radius: 50%;\n",
              "    cursor: pointer;\n",
              "    display: none;\n",
              "    fill: var(--fill-color);\n",
              "    height: 32px;\n",
              "    padding: 0;\n",
              "    width: 32px;\n",
              "  }\n",
              "\n",
              "  .colab-df-quickchart:hover {\n",
              "    background-color: var(--hover-bg-color);\n",
              "    box-shadow: 0 1px 2px rgba(60, 64, 67, 0.3), 0 1px 3px 1px rgba(60, 64, 67, 0.15);\n",
              "    fill: var(--button-hover-fill-color);\n",
              "  }\n",
              "\n",
              "  .colab-df-quickchart-complete:disabled,\n",
              "  .colab-df-quickchart-complete:disabled:hover {\n",
              "    background-color: var(--disabled-bg-color);\n",
              "    fill: var(--disabled-fill-color);\n",
              "    box-shadow: none;\n",
              "  }\n",
              "\n",
              "  .colab-df-spinner {\n",
              "    border: 2px solid var(--fill-color);\n",
              "    border-color: transparent;\n",
              "    border-bottom-color: var(--fill-color);\n",
              "    animation:\n",
              "      spin 1s steps(1) infinite;\n",
              "  }\n",
              "\n",
              "  @keyframes spin {\n",
              "    0% {\n",
              "      border-color: transparent;\n",
              "      border-bottom-color: var(--fill-color);\n",
              "      border-left-color: var(--fill-color);\n",
              "    }\n",
              "    20% {\n",
              "      border-color: transparent;\n",
              "      border-left-color: var(--fill-color);\n",
              "      border-top-color: var(--fill-color);\n",
              "    }\n",
              "    30% {\n",
              "      border-color: transparent;\n",
              "      border-left-color: var(--fill-color);\n",
              "      border-top-color: var(--fill-color);\n",
              "      border-right-color: var(--fill-color);\n",
              "    }\n",
              "    40% {\n",
              "      border-color: transparent;\n",
              "      border-right-color: var(--fill-color);\n",
              "      border-top-color: var(--fill-color);\n",
              "    }\n",
              "    60% {\n",
              "      border-color: transparent;\n",
              "      border-right-color: var(--fill-color);\n",
              "    }\n",
              "    80% {\n",
              "      border-color: transparent;\n",
              "      border-right-color: var(--fill-color);\n",
              "      border-bottom-color: var(--fill-color);\n",
              "    }\n",
              "    90% {\n",
              "      border-color: transparent;\n",
              "      border-bottom-color: var(--fill-color);\n",
              "    }\n",
              "  }\n",
              "</style>\n",
              "\n",
              "  <script>\n",
              "    async function quickchart(key) {\n",
              "      const quickchartButtonEl =\n",
              "        document.querySelector('#' + key + ' button');\n",
              "      quickchartButtonEl.disabled = true;  // To prevent multiple clicks.\n",
              "      quickchartButtonEl.classList.add('colab-df-spinner');\n",
              "      try {\n",
              "        const charts = await google.colab.kernel.invokeFunction(\n",
              "            'suggestCharts', [key], {});\n",
              "      } catch (error) {\n",
              "        console.error('Error during call to suggestCharts:', error);\n",
              "      }\n",
              "      quickchartButtonEl.classList.remove('colab-df-spinner');\n",
              "      quickchartButtonEl.classList.add('colab-df-quickchart-complete');\n",
              "    }\n",
              "    (() => {\n",
              "      let quickchartButtonEl =\n",
              "        document.querySelector('#df-431d0f0e-ab7a-4b96-b281-e9052dbb502c button');\n",
              "      quickchartButtonEl.style.display =\n",
              "        google.colab.kernel.accessAllowed ? 'block' : 'none';\n",
              "    })();\n",
              "  </script>\n",
              "</div>\n",
              "\n",
              "    </div>\n",
              "  </div>\n"
            ],
            "application/vnd.google.colaboratory.intrinsic+json": {
              "type": "dataframe",
              "summary": "{\n  \"name\": \"display(average_ratings\",\n  \"rows\": 5,\n  \"fields\": [\n    {\n      \"column\": \"Level\",\n      \"properties\": {\n        \"dtype\": \"category\",\n        \"num_unique_values\": 1,\n        \"samples\": [\n          \"advanced\"\n        ],\n        \"semantic_type\": \"\",\n        \"description\": \"\"\n      }\n    },\n    {\n      \"column\": \"Course Title\",\n      \"properties\": {\n        \"dtype\": \"string\",\n        \"num_unique_values\": 5,\n        \"samples\": [\n          \"3-Axis Machining with Autodesk Fusion 360\"\n        ],\n        \"semantic_type\": \"\",\n        \"description\": \"\"\n      }\n    },\n    {\n      \"column\": \"Instructor\",\n      \"properties\": {\n        \"dtype\": \"string\",\n        \"num_unique_values\": 4,\n        \"samples\": [\n          \"[]\"\n        ],\n        \"semantic_type\": \"\",\n        \"description\": \"\"\n      }\n    },\n    {\n      \"column\": \"ammountOfHours\",\n      \"properties\": {\n        \"dtype\": \"number\",\n        \"std\": 13.022595747392298,\n        \"min\": 14.0,\n        \"max\": 43.3,\n        \"num_unique_values\": 5,\n        \"samples\": [\n          27.0\n        ],\n        \"semantic_type\": \"\",\n        \"description\": \"\"\n      }\n    },\n    {\n      \"column\": \"average\",\n      \"properties\": {\n        \"dtype\": \"number\",\n        \"std\": 0.3271085446759227,\n        \"min\": 4.1,\n        \"max\": 4.9,\n        \"num_unique_values\": 4,\n        \"samples\": [\n          4.9\n        ],\n        \"semantic_type\": \"\",\n        \"description\": \"\"\n      }\n    }\n  ]\n}"
            }
          },
          "metadata": {}
        }
      ]
    },
    {
      "cell_type": "markdown",
      "source": [
        "## Highest and Lowest Ratings\n",
        "We get the course with the highest rating average and the first course found that has the highest Rating entry and also do the same anallysis but to find the lowest rating average and rating entry"
      ],
      "metadata": {
        "id": "XPB1HFhTbjfJ"
      }
    },
    {
      "cell_type": "code",
      "source": [
        "greatest_average = average_ratings['average'].max()\n",
        "greatest_average_course = average_ratings.loc[average_ratings['average'].idxmax()]\n",
        "print('')\n",
        "print('')\n",
        "print('El promedio mas alto es de:', greatest_average,', el primer curso encontrado con este promedio se llama:', greatest_average_course['Course Title'])\n",
        "\n",
        "lowest_average = average_ratings['average'].min()\n",
        "lowest_average_course = average_ratings.loc[average_ratings['average'].idxmin()]\n",
        "print('El promedio mas bajo es de:', lowest_average,', el primer curso encontrado con este promedio se llama:', lowest_average_course['Course Title'])\n",
        "\n",
        "greatest_rating = unique_entries['Rating'].max()\n",
        "greatest_rating_course = unique_entries.loc[unique_entries['Rating'].idxmax()]\n",
        "print('El Rating mas alto es de:', greatest_rating,', el primer curso encontrado con este Rating se llama:', greatest_rating_course['Course Title'])\n",
        "\n",
        "lowest_rating = unique_entries['Rating'].min()\n",
        "lowest_rating_course = unique_entries.loc[unique_entries['Rating'].idxmin()]\n",
        "print('El Rating mas bajo es de:', lowest_rating,', el primer curso encontrado con este Rating se llama:', lowest_rating_course['Course Title'])\n",
        "\n",
        "\n",
        "# A nice thing to do would be analize how many rows are we losing because the\n",
        "# rating was missing, this may help us indicate a customer that there is a very\n",
        "# bad issue in some place of our system, either the backed or frontend"
      ],
      "metadata": {
        "colab": {
          "base_uri": "https://localhost:8080/"
        },
        "id": "89U7YP_zV0k9",
        "outputId": "abb860c0-a6e0-45bd-bdb3-7df0804abec6"
      },
      "execution_count": 17,
      "outputs": [
        {
          "output_type": "stream",
          "name": "stdout",
          "text": [
            "\n",
            "\n",
            "El promedio mas alto es de: 5.0 , el primer curso encontrado con este promedio se llama: Back-end Application Development Capstone Project\n",
            "El promedio mas bajo es de: 1.5 , el primer curso encontrado con este promedio se llama: Excel for Beginners: Beginner Functions\n",
            "El Rating mas alto es de: 5.0 , el primer curso encontrado con este Rating se llama: Songwriting: Writing the Music\n",
            "El Rating mas bajo es de: 0.0 , el primer curso encontrado con este Rating se llama: Distribución digital de la música independiente\n"
          ]
        }
      ]
    },
    {
      "cell_type": "markdown",
      "source": [
        "## Flexible Courses Percentage\n",
        "I calculate the percentage of courses that have a flexible schedule"
      ],
      "metadata": {
        "id": "dfBZVIJCc4Kg"
      }
    },
    {
      "cell_type": "code",
      "source": [
        "flexible_courses = unique_entries[unique_entries['SchedFlexibility']]\n",
        "print('La cantidad de cursos con horarios flexibles es de:', len(flexible_courses))\n",
        "\n",
        "flexible_courses_percentage = (len(flexible_courses)*100)/len(unique_entries)\n",
        "print('El porecntaje de cursos con horarios flexibles es de:', flexible_courses_percentage, '%')"
      ],
      "metadata": {
        "colab": {
          "base_uri": "https://localhost:8080/"
        },
        "id": "m6JagkKqdI-e",
        "outputId": "74849d78-0e06-46a3-93ef-1c89ee1f9339"
      },
      "execution_count": 18,
      "outputs": [
        {
          "output_type": "stream",
          "name": "stdout",
          "text": [
            "La cantidad de cursos con horarios flexibles es de: 8054\n",
            "El porecntaje de cursos con horarios flexibles es de: 92.6279470960322 %\n"
          ]
        }
      ]
    },
    {
      "cell_type": "markdown",
      "source": [
        "# Natural LanguageProcessing Analyisis(NLP)\n",
        "\n",
        "\n",
        "\n"
      ],
      "metadata": {
        "id": "lzyz3H4aiz2q"
      }
    },
    {
      "cell_type": "markdown",
      "source": [
        "\n",
        "## Imports\n",
        "The imports we need are the following:\n",
        "\n",
        "* nltk: provides all the natural language analysis tools we need\n",
        "* stopwords: used to remove words we don't need like very common words like: in, a, on, etc\n",
        "* word_tokenize: helps us break a string into tokens\n",
        "* WordNetLemmatizer: Helps lematize words. Lemmatization is linking similar meaning words as one word. The goal of lemmatization is to reduce a word to its root form, also called a lemma. For example, the verb running would be identified as run.\n",
        "* SentimentIntensityAnalyzer: Return a float for sentiment strength based on the input text.\n",
        "* Counter: Is a dict(key/value hash table) sublcass to for counting hashable objects"
      ],
      "metadata": {
        "id": "YRLYDHn07b5u"
      }
    },
    {
      "cell_type": "code",
      "source": [
        "import nltk\n",
        "from nltk.corpus import stopwords\n",
        "from nltk.tokenize import word_tokenize\n",
        "from nltk.stem import WordNetLemmatizer\n",
        "from nltk.sentiment import SentimentIntensityAnalyzer\n",
        "from collections import Counter"
      ],
      "metadata": {
        "id": "T2pnaNF7sYE2"
      },
      "execution_count": 19,
      "outputs": []
    },
    {
      "cell_type": "markdown",
      "source": [
        "## Installations\n",
        "* punkt: is an unsupervised trainable tokenizer that splits text into sentences. But this tools may have been deprecated\n",
        "* punkt_tab: is the replacement for punkt\n",
        "* stopwords: used to remove words we don't need like very common words like: in, a, on, etc\n",
        "* WordNet: Is a lexical database of English. Using synsets, helps find conceptual relationships between words such as hypernyms, hyponyms, synonyms, antonyms etc\n",
        "* vader_lexicon: is a lexicon and rule-based sentiment analysis tool that is specifically attuned to sentiments expressed in social media, and works well on texts from other domains."
      ],
      "metadata": {
        "id": "nXMLJlwdwUFF"
      }
    },
    {
      "cell_type": "code",
      "source": [
        "nltk.download('punkt')\n",
        "nltk.download('punkt_tab')\n",
        "nltk.download('stopwords')\n",
        "nltk.download('wordnet')\n",
        "nltk.download('vader_lexicon')"
      ],
      "metadata": {
        "colab": {
          "base_uri": "https://localhost:8080/"
        },
        "id": "rT1yhbRzyt_b",
        "outputId": "32d106f7-1643-439e-e70c-460f93337ef6"
      },
      "execution_count": 20,
      "outputs": [
        {
          "output_type": "stream",
          "name": "stderr",
          "text": [
            "[nltk_data] Downloading package punkt to /root/nltk_data...\n",
            "[nltk_data]   Unzipping tokenizers/punkt.zip.\n",
            "[nltk_data] Downloading package punkt_tab to /root/nltk_data...\n",
            "[nltk_data]   Unzipping tokenizers/punkt_tab.zip.\n",
            "[nltk_data] Downloading package stopwords to /root/nltk_data...\n",
            "[nltk_data]   Unzipping corpora/stopwords.zip.\n",
            "[nltk_data] Downloading package wordnet to /root/nltk_data...\n",
            "[nltk_data] Downloading package vader_lexicon to /root/nltk_data...\n"
          ]
        },
        {
          "output_type": "execute_result",
          "data": {
            "text/plain": [
              "True"
            ]
          },
          "metadata": {},
          "execution_count": 20
        }
      ]
    },
    {
      "cell_type": "markdown",
      "source": [
        "## Upload Text File\n"
      ],
      "metadata": {
        "id": "nGdI--WNzQhb"
      }
    },
    {
      "cell_type": "code",
      "source": [
        "reviews = files.upload()"
      ],
      "metadata": {
        "colab": {
          "base_uri": "https://localhost:8080/",
          "height": 74
        },
        "id": "s8QK2hg-zVUh",
        "outputId": "d3503637-2277-40dc-93b5-edfd8a9ad601"
      },
      "execution_count": 21,
      "outputs": [
        {
          "output_type": "display_data",
          "data": {
            "text/plain": [
              "<IPython.core.display.HTML object>"
            ],
            "text/html": [
              "\n",
              "     <input type=\"file\" id=\"files-072c3b4e-7c16-40ea-8455-9001a84c64bb\" name=\"files[]\" multiple disabled\n",
              "        style=\"border:none\" />\n",
              "     <output id=\"result-072c3b4e-7c16-40ea-8455-9001a84c64bb\">\n",
              "      Upload widget is only available when the cell has been executed in the\n",
              "      current browser session. Please rerun this cell to enable.\n",
              "      </output>\n",
              "      <script>// Copyright 2017 Google LLC\n",
              "//\n",
              "// Licensed under the Apache License, Version 2.0 (the \"License\");\n",
              "// you may not use this file except in compliance with the License.\n",
              "// You may obtain a copy of the License at\n",
              "//\n",
              "//      http://www.apache.org/licenses/LICENSE-2.0\n",
              "//\n",
              "// Unless required by applicable law or agreed to in writing, software\n",
              "// distributed under the License is distributed on an \"AS IS\" BASIS,\n",
              "// WITHOUT WARRANTIES OR CONDITIONS OF ANY KIND, either express or implied.\n",
              "// See the License for the specific language governing permissions and\n",
              "// limitations under the License.\n",
              "\n",
              "/**\n",
              " * @fileoverview Helpers for google.colab Python module.\n",
              " */\n",
              "(function(scope) {\n",
              "function span(text, styleAttributes = {}) {\n",
              "  const element = document.createElement('span');\n",
              "  element.textContent = text;\n",
              "  for (const key of Object.keys(styleAttributes)) {\n",
              "    element.style[key] = styleAttributes[key];\n",
              "  }\n",
              "  return element;\n",
              "}\n",
              "\n",
              "// Max number of bytes which will be uploaded at a time.\n",
              "const MAX_PAYLOAD_SIZE = 100 * 1024;\n",
              "\n",
              "function _uploadFiles(inputId, outputId) {\n",
              "  const steps = uploadFilesStep(inputId, outputId);\n",
              "  const outputElement = document.getElementById(outputId);\n",
              "  // Cache steps on the outputElement to make it available for the next call\n",
              "  // to uploadFilesContinue from Python.\n",
              "  outputElement.steps = steps;\n",
              "\n",
              "  return _uploadFilesContinue(outputId);\n",
              "}\n",
              "\n",
              "// This is roughly an async generator (not supported in the browser yet),\n",
              "// where there are multiple asynchronous steps and the Python side is going\n",
              "// to poll for completion of each step.\n",
              "// This uses a Promise to block the python side on completion of each step,\n",
              "// then passes the result of the previous step as the input to the next step.\n",
              "function _uploadFilesContinue(outputId) {\n",
              "  const outputElement = document.getElementById(outputId);\n",
              "  const steps = outputElement.steps;\n",
              "\n",
              "  const next = steps.next(outputElement.lastPromiseValue);\n",
              "  return Promise.resolve(next.value.promise).then((value) => {\n",
              "    // Cache the last promise value to make it available to the next\n",
              "    // step of the generator.\n",
              "    outputElement.lastPromiseValue = value;\n",
              "    return next.value.response;\n",
              "  });\n",
              "}\n",
              "\n",
              "/**\n",
              " * Generator function which is called between each async step of the upload\n",
              " * process.\n",
              " * @param {string} inputId Element ID of the input file picker element.\n",
              " * @param {string} outputId Element ID of the output display.\n",
              " * @return {!Iterable<!Object>} Iterable of next steps.\n",
              " */\n",
              "function* uploadFilesStep(inputId, outputId) {\n",
              "  const inputElement = document.getElementById(inputId);\n",
              "  inputElement.disabled = false;\n",
              "\n",
              "  const outputElement = document.getElementById(outputId);\n",
              "  outputElement.innerHTML = '';\n",
              "\n",
              "  const pickedPromise = new Promise((resolve) => {\n",
              "    inputElement.addEventListener('change', (e) => {\n",
              "      resolve(e.target.files);\n",
              "    });\n",
              "  });\n",
              "\n",
              "  const cancel = document.createElement('button');\n",
              "  inputElement.parentElement.appendChild(cancel);\n",
              "  cancel.textContent = 'Cancel upload';\n",
              "  const cancelPromise = new Promise((resolve) => {\n",
              "    cancel.onclick = () => {\n",
              "      resolve(null);\n",
              "    };\n",
              "  });\n",
              "\n",
              "  // Wait for the user to pick the files.\n",
              "  const files = yield {\n",
              "    promise: Promise.race([pickedPromise, cancelPromise]),\n",
              "    response: {\n",
              "      action: 'starting',\n",
              "    }\n",
              "  };\n",
              "\n",
              "  cancel.remove();\n",
              "\n",
              "  // Disable the input element since further picks are not allowed.\n",
              "  inputElement.disabled = true;\n",
              "\n",
              "  if (!files) {\n",
              "    return {\n",
              "      response: {\n",
              "        action: 'complete',\n",
              "      }\n",
              "    };\n",
              "  }\n",
              "\n",
              "  for (const file of files) {\n",
              "    const li = document.createElement('li');\n",
              "    li.append(span(file.name, {fontWeight: 'bold'}));\n",
              "    li.append(span(\n",
              "        `(${file.type || 'n/a'}) - ${file.size} bytes, ` +\n",
              "        `last modified: ${\n",
              "            file.lastModifiedDate ? file.lastModifiedDate.toLocaleDateString() :\n",
              "                                    'n/a'} - `));\n",
              "    const percent = span('0% done');\n",
              "    li.appendChild(percent);\n",
              "\n",
              "    outputElement.appendChild(li);\n",
              "\n",
              "    const fileDataPromise = new Promise((resolve) => {\n",
              "      const reader = new FileReader();\n",
              "      reader.onload = (e) => {\n",
              "        resolve(e.target.result);\n",
              "      };\n",
              "      reader.readAsArrayBuffer(file);\n",
              "    });\n",
              "    // Wait for the data to be ready.\n",
              "    let fileData = yield {\n",
              "      promise: fileDataPromise,\n",
              "      response: {\n",
              "        action: 'continue',\n",
              "      }\n",
              "    };\n",
              "\n",
              "    // Use a chunked sending to avoid message size limits. See b/62115660.\n",
              "    let position = 0;\n",
              "    do {\n",
              "      const length = Math.min(fileData.byteLength - position, MAX_PAYLOAD_SIZE);\n",
              "      const chunk = new Uint8Array(fileData, position, length);\n",
              "      position += length;\n",
              "\n",
              "      const base64 = btoa(String.fromCharCode.apply(null, chunk));\n",
              "      yield {\n",
              "        response: {\n",
              "          action: 'append',\n",
              "          file: file.name,\n",
              "          data: base64,\n",
              "        },\n",
              "      };\n",
              "\n",
              "      let percentDone = fileData.byteLength === 0 ?\n",
              "          100 :\n",
              "          Math.round((position / fileData.byteLength) * 100);\n",
              "      percent.textContent = `${percentDone}% done`;\n",
              "\n",
              "    } while (position < fileData.byteLength);\n",
              "  }\n",
              "\n",
              "  // All done.\n",
              "  yield {\n",
              "    response: {\n",
              "      action: 'complete',\n",
              "    }\n",
              "  };\n",
              "}\n",
              "\n",
              "scope.google = scope.google || {};\n",
              "scope.google.colab = scope.google.colab || {};\n",
              "scope.google.colab._files = {\n",
              "  _uploadFiles,\n",
              "  _uploadFilesContinue,\n",
              "};\n",
              "})(self);\n",
              "</script> "
            ]
          },
          "metadata": {}
        },
        {
          "output_type": "stream",
          "name": "stdout",
          "text": [
            "Saving Coursera Comments.txt to Coursera Comments.txt\n"
          ]
        }
      ]
    },
    {
      "cell_type": "markdown",
      "source": [
        "## Open File"
      ],
      "metadata": {
        "id": "m38SfAuQzg5r"
      }
    },
    {
      "cell_type": "code",
      "source": [
        "with open('Coursera Comments.txt', 'r', encoding='utf-8') as file:\n",
        "  text = file.read()\n",
        "\n",
        "print('Preview del texto: ',text[:100])"
      ],
      "metadata": {
        "colab": {
          "base_uri": "https://localhost:8080/"
        },
        "id": "1DieLgBkzjvK",
        "outputId": "1f076c11-7c39-4545-b7f2-cccbf6bfae24"
      },
      "execution_count": 22,
      "outputs": [
        {
          "output_type": "stream",
          "name": "stdout",
          "text": [
            "Preview del texto:  \n",
            "Abril Vargas Pérez\n",
            "3 opiniones\n",
            "PT\n",
            "Valorada con 5 estrellas sobre 5\n",
            "21 ago 2024\n",
            "Escandalizada y conf\n"
          ]
        }
      ]
    },
    {
      "cell_type": "markdown",
      "source": [
        "## Tokenization\n",
        "I will split the text file into tokens and remove white spaces. Note that there is different characters we can remove like punctuation(`.`, `!`, `?`, `...`, etc), just plain white spaces and what you'd want to remove depends on how detail/naunced your sentiment analysis will be, below is a chart showing the preferable approach depending on the analysis model\n",
        "\n",
        "\n",
        "| Model Type | Should You Remove Punctuation? | Why? |\n",
        "| ---------- | ------------------------------ | ---- |\n",
        "| Bag-of-Words / TF-IDF | ✅ Yes (usually) | Punctuation adds noise; models treat great! and great as different tokens |\n",
        "| Rule-based Sentiment (e.g., VADER) | \t❌ No | Punctuation like !, ?, ... often conveys emphasis or emotion |\n",
        "| Pretrained Transformers (e.g., BERT) | \t❌ No | Models handle punctuation intelligently during tokenization |\n",
        "\n",
        "\n",
        "We intend to use `vader_lexicon` in our use case w rather use `token.isalpha()` ,which only returns True if all characters in the string are alphabetic letters (a-z, A-Z, no digits, no punctuation, no spaces) over, functions like `token.isspace()` because it only to remove white spaces but not punctuation"
      ],
      "metadata": {
        "id": "SVelgTWO1Zh9"
      }
    },
    {
      "cell_type": "code",
      "source": [
        "tokens = word_tokenize(text)\n",
        "print(\"Tokens:\", tokens[:10])\n",
        "clean_tokens = [token.lower() for token in tokens if token.isalpha()]\n",
        "print(\"Tokens limpios:\", tokens[:10])"
      ],
      "metadata": {
        "colab": {
          "base_uri": "https://localhost:8080/"
        },
        "id": "_UqJ04KF1bwN",
        "outputId": "c6bcdbbb-c5a0-4a26-8d38-9a7aea630f89"
      },
      "execution_count": 23,
      "outputs": [
        {
          "output_type": "stream",
          "name": "stdout",
          "text": [
            "Tokens: ['Abril', 'Vargas', 'Pérez', '3', 'opiniones', 'PT', 'Valorada', 'con', '5', 'estrellas']\n",
            "Tokens limpios: ['Abril', 'Vargas', 'Pérez', '3', 'opiniones', 'PT', 'Valorada', 'con', '5', 'estrellas']\n"
          ]
        }
      ]
    },
    {
      "cell_type": "markdown",
      "source": [
        "## Remove Stopwords\n",
        "I will use stopwords to finds words I don't need like common words as: 'in', 'a', 'an', 'han', 'o', 'u', etc"
      ],
      "metadata": {
        "id": "gNZfgRID1vtm"
      }
    },
    {
      "cell_type": "code",
      "source": [
        "stop_words = set(stopwords.words('english') + stopwords.words('spanish'))\n",
        "print('Stop words:', stop_words)"
      ],
      "metadata": {
        "colab": {
          "base_uri": "https://localhost:8080/"
        },
        "id": "rSZw7C5qKuG4",
        "outputId": "546ed03f-e9f6-479d-9722-8127e37aa1e1"
      },
      "execution_count": 24,
      "outputs": [
        {
          "output_type": "stream",
          "name": "stdout",
          "text": [
            "Stop words: {'algunos', 'estaríais', 'tuyo', 'these', 'habremos', 'tengan', \"wasn't\", 'when', 'fueras', 'antes', 'here', 'estuviéramos', \"it's\", 'then', \"isn't\", 'during', 'we', 'what', 'but', 'tengo', 'why', 'yourself', 'same', 'in', 'needn', 'estuve', 'an', 'serás', 'she', 'tuvieron', 'so', \"she's\", 'very', 'sentidas', 'whom', 'ella', 'did', 'será', 'otros', 'ti', 'tienes', 'don', 'sentid', 'can', 'wasn', \"we've\", 'itself', \"hasn't\", 'tenidos', 'habido', 'd', 'soy', 'mías', 'ain', 'suyas', 'estabas', 'tu', 'a', 'ourselves', 'nuestras', 'estuvieron', 'nuestros', 'una', 'with', 'fuese', 'ya', 'this', 'qué', 'into', 'seréis', 'be', 'tenemos', 'couldn', 've', 'y', 'all', 'weren', 'los', 'estados', 'hayan', 'seamos', 'has', 'wouldn', 'estuvimos', 'quienes', 'tenéis', 'had', 'our', 'her', 'el', 'hay', 'suyo', \"you're\", 'ante', 'tuve', 'quien', 'tendríamos', 'estada', 'seríamos', 'tuvieses', \"should've\", \"i'm\", 'tenga', 'teniendo', 'sois', 'desde', 'hubieron', 'vosotras', 'más', 'vuestra', 'fuisteis', 't', 'estuviese', 'only', 'tenían', 'under', 'you', 'until', 'mi', 'for', 'poco', 'estado', \"we'll\", 'any', 'donde', 'after', 'estáis', 'his', 'some', 'habida', 'tuvierais', 'tened', 'now', 'tenía', 'shouldn', 'sea', 'estabais', 'habíais', 'de', 'tuyos', 'esté', 'their', 'tendré', 'eres', 'todo', 'being', \"don't\", 'on', 'them', 'sus', 'ni', 'tuvo', 'estuviésemos', 'estarías', 'era', 'sí', 'do', 'estuvierais', 'him', 'tuviera', 'should', 'muy', 'vuestro', 'hasn', 'ellos', 'been', 'isn', 'habrían', 'estadas', 'estarás', \"you'll\", 'tenido', \"needn't\", 'that', 'tengáis', \"it'd\", 'over', 'sobre', 'they', 'to', 'esa', 'against', 'from', 'se', 'habidos', 'son', 'estará', 'hubiera', 'por', 'further', 'hubiste', 'tuviste', 'ha', 'estéis', 'tuviesen', 'estoy', 'tenida', \"they're\", 'estemos', \"shouldn't\", 'teníamos', 'estuvieseis', \"shan't\", 'fuera', 'fuesen', 'tendrás', 'theirs', 'esas', \"didn't\", \"hadn't\", 'fueses', 'las', 'ellas', 'siente', 'off', \"they'd\", 'habré', 'most', 'habrás', 'sería', 'hubisteis', 'uno', \"i'd\", 'or', 'tendrán', 'if', 'tendrá', 'tuyas', \"haven't\", 'mis', 'fue', 'tendríais', 'tus', 'yourselves', 'themselves', 'sentida', 'at', 'habías', 'es', 'al', 'estuviesen', 'somos', 'estuvieran', 'is', 'hubiéramos', 'just', 's', \"he'd\", \"won't\", 'by', 'nosotras', 'hayamos', 'estuviste', \"mightn't\", 'hube', 'it', 'yo', 'your', 'suya', 'entre', 'fui', 'estas', 'estábamos', \"that'll\", 'estando', 'haya', 'habiendo', 'en', 'esto', 'lo', 'my', 'i', 'about', 'algunas', 'hubierais', 'erais', 'hubimos', 'doing', 'han', 'other', 'not', 'me', 'more', 'cuando', 'habríamos', \"couldn't\", 'tuviéramos', 'e', 'habíamos', 'muchos', 'herself', 'con', 'was', 'tuvieras', 'having', 'estuvisteis', 'nuestra', 'esos', 'tuya', 'vuestros', 'fuimos', 'mucho', 'unos', 'he', 'nuestro', 'hubieses', 'above', 'su', 'estuvo', 'few', 'tendrías', 'otro', 'contra', 'que', 'esta', 'again', 'tenías', 'myself', 'ours', 'vuestras', 'through', 'la', 'habéis', 'porque', 'estén', 'hubieran', \"it'll\", 'nor', \"they'll\", 'between', 'habría', 'hubieras', 'fuéramos', 'hayas', 'él', 'shan', 'todos', 'tuvisteis', 'mustn', 'those', 'once', 'tienen', 'mí', 'have', 'pero', 'nosotros', 'tenidas', 'below', 'tendréis', \"i've\", 'such', 'estamos', 'no', 'there', \"weren't\", 'este', \"she'd\", 'tanto', 'and', 'seríais', 'estuviera', 'won', 'mía', 'suyos', 'tengas', \"doesn't\", 'hubiesen', 'sentido', 'estás', 'hubiésemos', \"i'll\", \"he's\", 're', 'estuvieras', 'mío', 'its', 'habréis', \"we're\", 'will', 'fuerais', 'cual', 'le', 'míos', 'habrán', 'were', 'os', 'estaríamos', 'fuiste', 'habrá', 'fueron', 'un', 'tengamos', 'hers', 'than', 'sintiendo', 'll', 'hubieseis', 'seré', 'había', 'serán', 'habían', 'mightn', 'estaban', \"you've\", 'hasta', 'fueseis', 'estaré', 'algo', 'les', 'tuviese', 'serían', 'tendría', 'hubiese', 'nos', 'hadn', 'haven', 'éramos', 'seas', 'tiene', 'aren', 'te', 'tú', 'before', 'estaría', 'eras', 'eso', 'sean', 'down', \"she'll\", 'estés', 'estuvieses', 'seáis', 'didn', 'while', \"you'd\", 'tuvieran', 'sentidos', 'sin', 'tuvimos', 'of', 'durante', 'para', 'hubo', 'está', 'habidas', 'up', 'out', 'estad', 'habríais', 'fueran', 'estar', 'tuviésemos', 'ma', 'estarán', 'otra', \"wouldn't\", 'o', \"he'll\", 'también', 'does', 'doesn', 'how', 'himself', 'are', 'del', 'tendrían', 'the', 'fuésemos', 'estaréis', 'where', 'otras', 'habrías', \"they've\", 'm', 'estarían', 'como', 'hayáis', 'seremos', 'which', 'vosotros', \"mustn't\", 'serías', 'teníais', 'own', 'tuvieseis', 'ese', 'eran', 'because', 'estos', 'as', 'estaba', 'who', 'estaremos', 'están', 'hemos', 'both', 'too', 'am', 'tendremos', 'yours', \"we'd\", 'nada', 'each', \"aren't\"}\n"
          ]
        }
      ]
    },
    {
      "cell_type": "markdown",
      "source": [
        "## Filter Tokens"
      ],
      "metadata": {
        "id": "vBOBwDuXMpaV"
      }
    },
    {
      "cell_type": "code",
      "source": [
        "filtered_tokens = [token for token in clean_tokens if token not in stop_words]\n",
        "print('Tokens filtrados:', filtered_tokens[:100])"
      ],
      "metadata": {
        "colab": {
          "base_uri": "https://localhost:8080/"
        },
        "id": "HIzoJFdUMtod",
        "outputId": "c56bd636-75d9-49e1-acc8-e25ca13a9d92"
      },
      "execution_count": 25,
      "outputs": [
        {
          "output_type": "stream",
          "name": "stdout",
          "text": [
            "Tokens filtrados: ['abril', 'vargas', 'pérez', 'opiniones', 'pt', 'valorada', 'estrellas', 'ago', 'escandalizada', 'confundida', 'escandalizada', 'confundida', 'malas', 'reseñas', 'coursera', 'mes', 'julio', 'haciendo', 'actualmente', 'curso', 'developer', 'imparte', 'meta', 'entrar', 'curso', 'pagar', 'coursera', 'plus', 'acceso', 'cursos', 'euros', 'mensuales', 'duré', 'periodo', 'prueba', 'gratis', 'días', 'hicieron', 'cargo', 'llevo', 'casi', 'dos', 'meses', 'haciendo', 'curso', 'dado', 'ningún', 'tipo', 'problemas', 'súper', 'completo', 'mayor', 'problemas', 'abrir', 'cada', 'modulo', 'quizás', 'unica', 'pega', 'asesores', 'personales', 'foros', 'discusión', 'bastante', 'receptivos', 'alumnos', 'ayudan', 'creo', 'gente', 'malas', 'experiencias', 'saben', 'leer', 'detenimiento', 'letras', 'pequeñas', 'cursos', 'gratis', 'luego', 'pagos', 'caso', 'leí', 'detenimiento', 'toda', 'información', 'transparencia', 'tema', 'pagos', 'fin', 'recomiendo', 'coursera', 'certificados', 'muchas', 'universidades', 'instituciones', 'reconocidas', 'aprendiendo', 'curso', 'front', 'end']\n"
          ]
        }
      ]
    },
    {
      "cell_type": "markdown",
      "source": [
        "## Lemmatization\n",
        "The goal of lemmatization is to reduce a word to its root form, also called a lemma. For example, the verb running would be identified as run."
      ],
      "metadata": {
        "id": "fOX5ccfPTGi3"
      }
    },
    {
      "cell_type": "code",
      "source": [
        "lemmatizer = WordNetLemmatizer()\n",
        "\n",
        "lemmatized_tokens = [lemmatizer.lemmatize(token) for token in filtered_tokens]\n",
        "print(\"Tokens lemmatizados:\", lemmatized_tokens[:100])"
      ],
      "metadata": {
        "colab": {
          "base_uri": "https://localhost:8080/"
        },
        "id": "xBHOnawwZNQ6",
        "outputId": "7facf358-85b4-4b50-8136-f4544abb3260"
      },
      "execution_count": 26,
      "outputs": [
        {
          "output_type": "stream",
          "name": "stdout",
          "text": [
            "Tokens lemmatizados: ['abril', 'vargas', 'pérez', 'opiniones', 'pt', 'valorada', 'estrellas', 'ago', 'escandalizada', 'confundida', 'escandalizada', 'confundida', 'malas', 'reseñas', 'coursera', 'me', 'julio', 'haciendo', 'actualmente', 'curso', 'developer', 'imparte', 'meta', 'entrar', 'curso', 'pagar', 'coursera', 'plus', 'acceso', 'cursos', 'euro', 'mensuales', 'duré', 'periodo', 'prueba', 'gratis', 'días', 'hicieron', 'cargo', 'llevo', 'casi', 'do', 'meses', 'haciendo', 'curso', 'dado', 'ningún', 'tipo', 'problemas', 'súper', 'completo', 'mayor', 'problemas', 'abrir', 'cada', 'modulo', 'quizás', 'unica', 'pega', 'asesores', 'personales', 'foros', 'discusión', 'bastante', 'receptivos', 'alumnos', 'ayudan', 'creo', 'gente', 'malas', 'experiencias', 'saben', 'leer', 'detenimiento', 'letras', 'pequeñas', 'cursos', 'gratis', 'luego', 'pagos', 'caso', 'leí', 'detenimiento', 'toda', 'información', 'transparencia', 'tema', 'pagos', 'fin', 'recomiendo', 'coursera', 'certificados', 'muchas', 'universidades', 'instituciones', 'reconocidas', 'aprendiendo', 'curso', 'front', 'end']\n"
          ]
        }
      ]
    },
    {
      "cell_type": "markdown",
      "source": [
        "## Words Frequency"
      ],
      "metadata": {
        "id": "BLprJwXMalmy"
      }
    },
    {
      "cell_type": "code",
      "source": [
        "frequency = Counter(lemmatized_tokens)\n",
        "print(\"Frecuencia de tokens:\", frequency.most_common(1))\n",
        "\n",
        "words_frequency = frequency.most_common(10)\n",
        "words = [word for word, count in words_frequency]\n",
        "counts = [count for word, count in words_frequency]\n",
        "\n",
        "plt.figure(figsize=(12,8))\n",
        "plt.bar(words, counts)\n",
        "plt.title(\"Words Frequency\")\n",
        "plt.xlabel(\"Words\")\n",
        "plt.ylabel(\"Frequency\")\n",
        "plt.xticks(rotation=45)\n",
        "plt.show()"
      ],
      "metadata": {
        "colab": {
          "base_uri": "https://localhost:8080/",
          "height": 797
        },
        "id": "RHTgTwvFaqSw",
        "outputId": "f62ac572-6b86-4cda-cebe-b90289112a1d"
      },
      "execution_count": 27,
      "outputs": [
        {
          "output_type": "stream",
          "name": "stdout",
          "text": [
            "Frecuencia de tokens: [('semana', 1641)]\n"
          ]
        },
        {
          "output_type": "display_data",
          "data": {
            "text/plain": [
              "<Figure size 1200x800 with 1 Axes>"
            ],
            "image/png": "[encoded data removed]"
          },
          "metadata": {}
        }
      ]
    },
    {
      "cell_type": "markdown",
      "source": [
        "## Sentiment Analysis"
      ],
      "metadata": {
        "id": "lV5E6nvRe2e0"
      }
    },
    {
      "cell_type": "code",
      "source": [
        "SIA = SentimentIntensityAnalyzer()\n",
        "sentiments = SIA.polarity_scores(text)\n",
        "print('Los sentimientos son:', sentiments)"
      ],
      "metadata": {
        "colab": {
          "base_uri": "https://localhost:8080/"
        },
        "id": "JEx3RVhPe7Wd",
        "outputId": "147c59a8-261c-4a83-d7ea-dad49a7e73cb"
      },
      "execution_count": 28,
      "outputs": [
        {
          "output_type": "stream",
          "name": "stdout",
          "text": [
            "Los sentimientos son: {'neg': 0.035, 'neu': 0.954, 'pos': 0.011, 'compound': -1.0}\n"
          ]
        }
      ]
    },
    {
      "cell_type": "markdown",
      "source": [
        "## Sentiment Analysis Vizualization"
      ],
      "metadata": {
        "id": "0MWEcEnnhvHv"
      }
    },
    {
      "cell_type": "code",
      "source": [
        "# Multiply all values by 100 to get the percentage\n",
        "scaled = {k: v * 100 for k, v in sentiments.items()}\n",
        "\n",
        "# Replace negative values with 0\n",
        "adjusted = {k: v if v >= 0 else 0 for k, v in scaled.items()}\n",
        "\n",
        "labels = ['Negativo', 'Neutro', 'Positivo', 'Compound']\n",
        "sizes = [adjusted['neg'], adjusted['neu'], adjusted['pos'], adjusted['compound']]\n",
        "colors = ['red', 'gray', 'green', 'yellow']\n",
        "plt.figure(figsize=(12,8))\n",
        "plt.bar(labels, sizes, color=colors)\n",
        "plt.xlabel(\"Sentimientos\")\n",
        "plt.ylabel(\"Porcentaje\")\n",
        "plt.xticks(rotation=45)\n",
        "plt.title('Distribucion de Sentimientos')\n",
        "plt.show()"
      ],
      "metadata": {
        "colab": {
          "base_uri": "https://localhost:8080/",
          "height": 767
        },
        "id": "puz4CqfolOpr",
        "outputId": "08b8fbc0-6b70-4eb3-cef2-e4e0297e9bda"
      },
      "execution_count": 29,
      "outputs": [
        {
          "output_type": "display_data",
          "data": {
            "text/plain": [
              "<Figure size 1200x800 with 1 Axes>"
            ],
            "image/png": "[encoded data removed]"
          },
          "metadata": {}
        }
      ]
    },
    {
      "cell_type": "markdown",
      "source": [
        "# Natural Entity Recognition(NER)\n",
        "This analysis can help us identify popular people, organizations, locations or words, basically identify trends"
      ],
      "metadata": {
        "id": "gF-J4y-pwe-9"
      }
    },
    {
      "cell_type": "markdown",
      "source": [
        "## Imports\n",
        "* spacy: natural language processing library to process text and extract named entities. The code iterates through the named entities identified in the processed document and printing each entity’s text, start character, end character and label."
      ],
      "metadata": {
        "id": "w6Ov6wMd7j0H"
      }
    },
    {
      "cell_type": "code",
      "source": [
        "# from transformers import AutoTokenizer, AutoModelForTokenClassification\n",
        "# from transformers import pipeline"
      ],
      "metadata": {
        "id": "TffsWxqrwy0G"
      },
      "execution_count": 30,
      "outputs": []
    },
    {
      "cell_type": "code",
      "source": [
        "!pip install -U spacy\n",
        "!python -m spacy download es_core_news_sm"
      ],
      "metadata": {
        "colab": {
          "base_uri": "https://localhost:8080/"
        },
        "id": "BU4BQn1_xG3D",
        "outputId": "736ef0fe-092c-4a5d-a1ca-7000ac70fe2c"
      },
      "execution_count": 31,
      "outputs": [
        {
          "output_type": "stream",
          "name": "stdout",
          "text": [
            "Requirement already satisfied: spacy in /usr/local/lib/python3.11/dist-packages (3.8.5)\n",
            "Requirement already satisfied: spacy-legacy<3.1.0,>=3.0.11 in /usr/local/lib/python3.11/dist-packages (from spacy) (3.0.12)\n",
            "Requirement already satisfied: spacy-loggers<2.0.0,>=1.0.0 in /usr/local/lib/python3.11/dist-packages (from spacy) (1.0.5)\n",
            "Requirement already satisfied: murmurhash<1.1.0,>=0.28.0 in /usr/local/lib/python3.11/dist-packages (from spacy) (1.0.12)\n",
            "Requirement already satisfied: cymem<2.1.0,>=2.0.2 in /usr/local/lib/python3.11/dist-packages (from spacy) (2.0.11)\n",
            "Requirement already satisfied: preshed<3.1.0,>=3.0.2 in /usr/local/lib/python3.11/dist-packages (from spacy) (3.0.9)\n",
            "Requirement already satisfied: thinc<8.4.0,>=8.3.4 in /usr/local/lib/python3.11/dist-packages (from spacy) (8.3.6)\n",
            "Requirement already satisfied: wasabi<1.2.0,>=0.9.1 in /usr/local/lib/python3.11/dist-packages (from spacy) (1.1.3)\n",
            "Requirement already satisfied: srsly<3.0.0,>=2.4.3 in /usr/local/lib/python3.11/dist-packages (from spacy) (2.5.1)\n",
            "Requirement already satisfied: catalogue<2.1.0,>=2.0.6 in /usr/local/lib/python3.11/dist-packages (from spacy) (2.0.10)\n",
            "Requirement already satisfied: weasel<0.5.0,>=0.1.0 in /usr/local/lib/python3.11/dist-packages (from spacy) (0.4.1)\n",
            "Requirement already satisfied: typer<1.0.0,>=0.3.0 in /usr/local/lib/python3.11/dist-packages (from spacy) (0.15.2)\n",
            "Requirement already satisfied: tqdm<5.0.0,>=4.38.0 in /usr/local/lib/python3.11/dist-packages (from spacy) (4.67.1)\n",
            "Requirement already satisfied: numpy>=1.19.0 in /usr/local/lib/python3.11/dist-packages (from spacy) (2.0.2)\n",
            "Requirement already satisfied: requests<3.0.0,>=2.13.0 in /usr/local/lib/python3.11/dist-packages (from spacy) (2.32.3)\n",
            "Requirement already satisfied: pydantic!=1.8,!=1.8.1,<3.0.0,>=1.7.4 in /usr/local/lib/python3.11/dist-packages (from spacy) (2.11.2)\n",
            "Requirement already satisfied: jinja2 in /usr/local/lib/python3.11/dist-packages (from spacy) (3.1.6)\n",
            "Requirement already satisfied: setuptools in /usr/local/lib/python3.11/dist-packages (from spacy) (75.2.0)\n",
            "Requirement already satisfied: packaging>=20.0 in /usr/local/lib/python3.11/dist-packages (from spacy) (24.2)\n",
            "Requirement already satisfied: langcodes<4.0.0,>=3.2.0 in /usr/local/lib/python3.11/dist-packages (from spacy) (3.5.0)\n",
            "Requirement already satisfied: language-data>=1.2 in /usr/local/lib/python3.11/dist-packages (from langcodes<4.0.0,>=3.2.0->spacy) (1.3.0)\n",
            "Requirement already satisfied: annotated-types>=0.6.0 in /usr/local/lib/python3.11/dist-packages (from pydantic!=1.8,!=1.8.1,<3.0.0,>=1.7.4->spacy) (0.7.0)\n",
            "Requirement already satisfied: pydantic-core==2.33.1 in /usr/local/lib/python3.11/dist-packages (from pydantic!=1.8,!=1.8.1,<3.0.0,>=1.7.4->spacy) (2.33.1)\n",
            "Requirement already satisfied: typing-extensions>=4.12.2 in /usr/local/lib/python3.11/dist-packages (from pydantic!=1.8,!=1.8.1,<3.0.0,>=1.7.4->spacy) (4.13.1)\n",
            "Requirement already satisfied: typing-inspection>=0.4.0 in /usr/local/lib/python3.11/dist-packages (from pydantic!=1.8,!=1.8.1,<3.0.0,>=1.7.4->spacy) (0.4.0)\n",
            "Requirement already satisfied: charset-normalizer<4,>=2 in /usr/local/lib/python3.11/dist-packages (from requests<3.0.0,>=2.13.0->spacy) (3.4.1)\n",
            "Requirement already satisfied: idna<4,>=2.5 in /usr/local/lib/python3.11/dist-packages (from requests<3.0.0,>=2.13.0->spacy) (3.10)\n",
            "Requirement already satisfied: urllib3<3,>=1.21.1 in /usr/local/lib/python3.11/dist-packages (from requests<3.0.0,>=2.13.0->spacy) (2.3.0)\n",
            "Requirement already satisfied: certifi>=2017.4.17 in /usr/local/lib/python3.11/dist-packages (from requests<3.0.0,>=2.13.0->spacy) (2025.1.31)\n",
            "Requirement already satisfied: blis<1.4.0,>=1.3.0 in /usr/local/lib/python3.11/dist-packages (from thinc<8.4.0,>=8.3.4->spacy) (1.3.0)\n",
            "Requirement already satisfied: confection<1.0.0,>=0.0.1 in /usr/local/lib/python3.11/dist-packages (from thinc<8.4.0,>=8.3.4->spacy) (0.1.5)\n",
            "Requirement already satisfied: click>=8.0.0 in /usr/local/lib/python3.11/dist-packages (from typer<1.0.0,>=0.3.0->spacy) (8.1.8)\n",
            "Requirement already satisfied: shellingham>=1.3.0 in /usr/local/lib/python3.11/dist-packages (from typer<1.0.0,>=0.3.0->spacy) (1.5.4)\n",
            "Requirement already satisfied: rich>=10.11.0 in /usr/local/lib/python3.11/dist-packages (from typer<1.0.0,>=0.3.0->spacy) (13.9.4)\n",
            "Requirement already satisfied: cloudpathlib<1.0.0,>=0.7.0 in /usr/local/lib/python3.11/dist-packages (from weasel<0.5.0,>=0.1.0->spacy) (0.21.0)\n",
            "Requirement already satisfied: smart-open<8.0.0,>=5.2.1 in /usr/local/lib/python3.11/dist-packages (from weasel<0.5.0,>=0.1.0->spacy) (7.1.0)\n",
            "Requirement already satisfied: MarkupSafe>=2.0 in /usr/local/lib/python3.11/dist-packages (from jinja2->spacy) (3.0.2)\n",
            "Requirement already satisfied: marisa-trie>=1.1.0 in /usr/local/lib/python3.11/dist-packages (from language-data>=1.2->langcodes<4.0.0,>=3.2.0->spacy) (1.2.1)\n",
            "Requirement already satisfied: markdown-it-py>=2.2.0 in /usr/local/lib/python3.11/dist-packages (from rich>=10.11.0->typer<1.0.0,>=0.3.0->spacy) (3.0.0)\n",
            "Requirement already satisfied: pygments<3.0.0,>=2.13.0 in /usr/local/lib/python3.11/dist-packages (from rich>=10.11.0->typer<1.0.0,>=0.3.0->spacy) (2.18.0)\n",
            "Requirement already satisfied: wrapt in /usr/local/lib/python3.11/dist-packages (from smart-open<8.0.0,>=5.2.1->weasel<0.5.0,>=0.1.0->spacy) (1.17.2)\n",
            "Requirement already satisfied: mdurl~=0.1 in /usr/local/lib/python3.11/dist-packages (from markdown-it-py>=2.2.0->rich>=10.11.0->typer<1.0.0,>=0.3.0->spacy) (0.1.2)\n",
            "Collecting es-core-news-sm==3.8.0\n",
            "  Downloading https://github.com/explosion/spacy-models/releases/download/es_core_news_sm-3.8.0/es_core_news_sm-3.8.0-py3-none-any.whl (12.9 MB)\n",
            "\u001b[2K     \u001b[90m━━━━━━━━━━━━━━━━━━━━━━━━━━━━━━━━━━━━━━━━\u001b[0m \u001b[32m12.9/12.9 MB\u001b[0m \u001b[31m88.8 MB/s\u001b[0m eta \u001b[36m0:00:00\u001b[0m\n",
            "\u001b[?25hInstalling collected packages: es-core-news-sm\n",
            "Successfully installed es-core-news-sm-3.8.0\n",
            "\u001b[38;5;2m✔ Download and installation successful\u001b[0m\n",
            "You can now load the package via spacy.load('es_core_news_sm')\n",
            "\u001b[38;5;3m⚠ Restart to reload dependencies\u001b[0m\n",
            "If you are in a Jupyter or Colab notebook, you may need to restart Python in\n",
            "order to load all the package's dependencies. You can do this by selecting the\n",
            "'Restart kernel' or 'Restart runtime' option.\n"
          ]
        }
      ]
    },
    {
      "cell_type": "code",
      "source": [
        "import spacy"
      ],
      "metadata": {
        "id": "lkTAEeogYxIE"
      },
      "execution_count": 32,
      "outputs": []
    },
    {
      "cell_type": "markdown",
      "source": [
        "## NER using Spacy\n",
        "I will use the model/pipeline called `es_core_news_sm`. A pipeline in SpaCy can be seen as a series of processes that include tokenization, lemmatization and several other processes to be able to identify and clasify lemmas"
      ],
      "metadata": {
        "id": "BSJxYTFnY6wi"
      }
    },
    {
      "cell_type": "code",
      "source": [
        "nlp = spacy.load(\"es_core_news_sm\")\n",
        "\n",
        "# Read the text file\n",
        "with open('Coursera Comments.txt', 'r', encoding='utf-8') as file:\n",
        "    text = file.read()\n",
        "\n",
        "nlp.max_length = 1147900\n",
        "\n",
        "# Process the text with spaCy\n",
        "doc = nlp(text)\n",
        "\n",
        "entities = [(ent.text, ent.label_, ent.lemma_) for ent in doc.ents]\n"
      ],
      "metadata": {
        "id": "Df0t5s7e8GO7"
      },
      "execution_count": 33,
      "outputs": []
    },
    {
      "cell_type": "markdown",
      "source": [
        "## Prepare Info for Visualization\n",
        "We create a dataframe to be able to create a vizualization"
      ],
      "metadata": {
        "id": "yK7_fffEainI"
      }
    },
    {
      "cell_type": "code",
      "source": [
        "df = pd.DataFrame(entities, columns=['text', 'type', 'lemma'])\n",
        "\n",
        "df.head()"
      ],
      "metadata": {
        "colab": {
          "base_uri": "https://localhost:8080/",
          "height": 206
        },
        "id": "yPI0UaBXOW89",
        "outputId": "50b7e22a-b05d-4392-a37b-f2fccc7ab91b"
      },
      "execution_count": 34,
      "outputs": [
        {
          "output_type": "execute_result",
          "data": {
            "text/plain": [
              "                text  type              lemma\n",
              "0       Vargas Pérez   PER       Vargas Pérez\n",
              "1       PT\\nValorada  MISC       PT\\nValorada\n",
              "2      Escandalizada   LOC      Escandalizada\n",
              "3      Escandalizada   PER      Escandalizada\n",
              "4  Estoy en coursera  MISC  estar en coursera"
            ],
            "text/html": [
              "\n",
              "  <div id=\"df-706af23f-e444-4c80-bba2-cd982245371d\" class=\"colab-df-container\">\n",
              "    <div>\n",
              "<style scoped>\n",
              "    .dataframe tbody tr th:only-of-type {\n",
              "        vertical-align: middle;\n",
              "    }\n",
              "\n",
              "    .dataframe tbody tr th {\n",
              "        vertical-align: top;\n",
              "    }\n",
              "\n",
              "    .dataframe thead th {\n",
              "        text-align: right;\n",
              "    }\n",
              "</style>\n",
              "<table border=\"1\" class=\"dataframe\">\n",
              "  <thead>\n",
              "    <tr style=\"text-align: right;\">\n",
              "      <th></th>\n",
              "      <th>text</th>\n",
              "      <th>type</th>\n",
              "      <th>lemma</th>\n",
              "    </tr>\n",
              "  </thead>\n",
              "  <tbody>\n",
              "    <tr>\n",
              "      <th>0</th>\n",
              "      <td>Vargas Pérez</td>\n",
              "      <td>PER</td>\n",
              "      <td>Vargas Pérez</td>\n",
              "    </tr>\n",
              "    <tr>\n",
              "      <th>1</th>\n",
              "      <td>PT\\nValorada</td>\n",
              "      <td>MISC</td>\n",
              "      <td>PT\\nValorada</td>\n",
              "    </tr>\n",
              "    <tr>\n",
              "      <th>2</th>\n",
              "      <td>Escandalizada</td>\n",
              "      <td>LOC</td>\n",
              "      <td>Escandalizada</td>\n",
              "    </tr>\n",
              "    <tr>\n",
              "      <th>3</th>\n",
              "      <td>Escandalizada</td>\n",
              "      <td>PER</td>\n",
              "      <td>Escandalizada</td>\n",
              "    </tr>\n",
              "    <tr>\n",
              "      <th>4</th>\n",
              "      <td>Estoy en coursera</td>\n",
              "      <td>MISC</td>\n",
              "      <td>estar en coursera</td>\n",
              "    </tr>\n",
              "  </tbody>\n",
              "</table>\n",
              "</div>\n",
              "    <div class=\"colab-df-buttons\">\n",
              "\n",
              "  <div class=\"colab-df-container\">\n",
              "    <button class=\"colab-df-convert\" onclick=\"convertToInteractive('df-706af23f-e444-4c80-bba2-cd982245371d')\"\n",
              "            title=\"Convert this dataframe to an interactive table.\"\n",
              "            style=\"display:none;\">\n",
              "\n",
              "  <svg xmlns=\"http://www.w3.org/2000/svg\" height=\"24px\" viewBox=\"0 -960 960 960\">\n",
              "    <path d=\"M120-120v-720h720v720H120Zm60-500h600v-160H180v160Zm220 220h160v-160H400v160Zm0 220h160v-160H400v160ZM180-400h160v-160H180v160Zm440 0h160v-160H620v160ZM180-180h160v-160H180v160Zm440 0h160v-160H620v160Z\"/>\n",
              "  </svg>\n",
              "    </button>\n",
              "\n",
              "  <style>\n",
              "    .colab-df-container {\n",
              "      display:flex;\n",
              "      gap: 12px;\n",
              "    }\n",
              "\n",
              "    .colab-df-convert {\n",
              "      background-color: #E8F0FE;\n",
              "      border: none;\n",
              "      border-radius: 50%;\n",
              "      cursor: pointer;\n",
              "      display: none;\n",
              "      fill: #1967D2;\n",
              "      height: 32px;\n",
              "      padding: 0 0 0 0;\n",
              "      width: 32px;\n",
              "    }\n",
              "\n",
              "    .colab-df-convert:hover {\n",
              "      background-color: #E2EBFA;\n",
              "      box-shadow: 0px 1px 2px rgba(60, 64, 67, 0.3), 0px 1px 3px 1px rgba(60, 64, 67, 0.15);\n",
              "      fill: #174EA6;\n",
              "    }\n",
              "\n",
              "    .colab-df-buttons div {\n",
              "      margin-bottom: 4px;\n",
              "    }\n",
              "\n",
              "    [theme=dark] .colab-df-convert {\n",
              "      background-color: #3B4455;\n",
              "      fill: #D2E3FC;\n",
              "    }\n",
              "\n",
              "    [theme=dark] .colab-df-convert:hover {\n",
              "      background-color: #434B5C;\n",
              "      box-shadow: 0px 1px 3px 1px rgba(0, 0, 0, 0.15);\n",
              "      filter: drop-shadow(0px 1px 2px rgba(0, 0, 0, 0.3));\n",
              "      fill: #FFFFFF;\n",
              "    }\n",
              "  </style>\n",
              "\n",
              "    <script>\n",
              "      const buttonEl =\n",
              "        document.querySelector('#df-706af23f-e444-4c80-bba2-cd982245371d button.colab-df-convert');\n",
              "      buttonEl.style.display =\n",
              "        google.colab.kernel.accessAllowed ? 'block' : 'none';\n",
              "\n",
              "      async function convertToInteractive(key) {\n",
              "        const element = document.querySelector('#df-706af23f-e444-4c80-bba2-cd982245371d');\n",
              "        const dataTable =\n",
              "          await google.colab.kernel.invokeFunction('convertToInteractive',\n",
              "                                                    [key], {});\n",
              "        if (!dataTable) return;\n",
              "\n",
              "        const docLinkHtml = 'Like what you see? Visit the ' +\n",
              "          '<a target=\"_blank\" href=https://colab.research.google.com/notebooks/data_table.ipynb>data table notebook</a>'\n",
              "          + ' to learn more about interactive tables.';\n",
              "        element.innerHTML = '';\n",
              "        dataTable['output_type'] = 'display_data';\n",
              "        await google.colab.output.renderOutput(dataTable, element);\n",
              "        const docLink = document.createElement('div');\n",
              "        docLink.innerHTML = docLinkHtml;\n",
              "        element.appendChild(docLink);\n",
              "      }\n",
              "    </script>\n",
              "  </div>\n",
              "\n",
              "\n",
              "<div id=\"df-d796cdc6-be8b-40be-a804-4f924c61661e\">\n",
              "  <button class=\"colab-df-quickchart\" onclick=\"quickchart('df-d796cdc6-be8b-40be-a804-4f924c61661e')\"\n",
              "            title=\"Suggest charts\"\n",
              "            style=\"display:none;\">\n",
              "\n",
              "<svg xmlns=\"http://www.w3.org/2000/svg\" height=\"24px\"viewBox=\"0 0 24 24\"\n",
              "     width=\"24px\">\n",
              "    <g>\n",
              "        <path d=\"M19 3H5c-1.1 0-2 .9-2 2v14c0 1.1.9 2 2 2h14c1.1 0 2-.9 2-2V5c0-1.1-.9-2-2-2zM9 17H7v-7h2v7zm4 0h-2V7h2v10zm4 0h-2v-4h2v4z\"/>\n",
              "    </g>\n",
              "</svg>\n",
              "  </button>\n",
              "\n",
              "<style>\n",
              "  .colab-df-quickchart {\n",
              "      --bg-color: #E8F0FE;\n",
              "      --fill-color: #1967D2;\n",
              "      --hover-bg-color: #E2EBFA;\n",
              "      --hover-fill-color: #174EA6;\n",
              "      --disabled-fill-color: #AAA;\n",
              "      --disabled-bg-color: #DDD;\n",
              "  }\n",
              "\n",
              "  [theme=dark] .colab-df-quickchart {\n",
              "      --bg-color: #3B4455;\n",
              "      --fill-color: #D2E3FC;\n",
              "      --hover-bg-color: #434B5C;\n",
              "      --hover-fill-color: #FFFFFF;\n",
              "      --disabled-bg-color: #3B4455;\n",
              "      --disabled-fill-color: #666;\n",
              "  }\n",
              "\n",
              "  .colab-df-quickchart {\n",
              "    background-color: var(--bg-color);\n",
              "    border: none;\n",
              "    border-radius: 50%;\n",
              "    cursor: pointer;\n",
              "    display: none;\n",
              "    fill: var(--fill-color);\n",
              "    height: 32px;\n",
              "    padding: 0;\n",
              "    width: 32px;\n",
              "  }\n",
              "\n",
              "  .colab-df-quickchart:hover {\n",
              "    background-color: var(--hover-bg-color);\n",
              "    box-shadow: 0 1px 2px rgba(60, 64, 67, 0.3), 0 1px 3px 1px rgba(60, 64, 67, 0.15);\n",
              "    fill: var(--button-hover-fill-color);\n",
              "  }\n",
              "\n",
              "  .colab-df-quickchart-complete:disabled,\n",
              "  .colab-df-quickchart-complete:disabled:hover {\n",
              "    background-color: var(--disabled-bg-color);\n",
              "    fill: var(--disabled-fill-color);\n",
              "    box-shadow: none;\n",
              "  }\n",
              "\n",
              "  .colab-df-spinner {\n",
              "    border: 2px solid var(--fill-color);\n",
              "    border-color: transparent;\n",
              "    border-bottom-color: var(--fill-color);\n",
              "    animation:\n",
              "      spin 1s steps(1) infinite;\n",
              "  }\n",
              "\n",
              "  @keyframes spin {\n",
              "    0% {\n",
              "      border-color: transparent;\n",
              "      border-bottom-color: var(--fill-color);\n",
              "      border-left-color: var(--fill-color);\n",
              "    }\n",
              "    20% {\n",
              "      border-color: transparent;\n",
              "      border-left-color: var(--fill-color);\n",
              "      border-top-color: var(--fill-color);\n",
              "    }\n",
              "    30% {\n",
              "      border-color: transparent;\n",
              "      border-left-color: var(--fill-color);\n",
              "      border-top-color: var(--fill-color);\n",
              "      border-right-color: var(--fill-color);\n",
              "    }\n",
              "    40% {\n",
              "      border-color: transparent;\n",
              "      border-right-color: var(--fill-color);\n",
              "      border-top-color: var(--fill-color);\n",
              "    }\n",
              "    60% {\n",
              "      border-color: transparent;\n",
              "      border-right-color: var(--fill-color);\n",
              "    }\n",
              "    80% {\n",
              "      border-color: transparent;\n",
              "      border-right-color: var(--fill-color);\n",
              "      border-bottom-color: var(--fill-color);\n",
              "    }\n",
              "    90% {\n",
              "      border-color: transparent;\n",
              "      border-bottom-color: var(--fill-color);\n",
              "    }\n",
              "  }\n",
              "</style>\n",
              "\n",
              "  <script>\n",
              "    async function quickchart(key) {\n",
              "      const quickchartButtonEl =\n",
              "        document.querySelector('#' + key + ' button');\n",
              "      quickchartButtonEl.disabled = true;  // To prevent multiple clicks.\n",
              "      quickchartButtonEl.classList.add('colab-df-spinner');\n",
              "      try {\n",
              "        const charts = await google.colab.kernel.invokeFunction(\n",
              "            'suggestCharts', [key], {});\n",
              "      } catch (error) {\n",
              "        console.error('Error during call to suggestCharts:', error);\n",
              "      }\n",
              "      quickchartButtonEl.classList.remove('colab-df-spinner');\n",
              "      quickchartButtonEl.classList.add('colab-df-quickchart-complete');\n",
              "    }\n",
              "    (() => {\n",
              "      let quickchartButtonEl =\n",
              "        document.querySelector('#df-d796cdc6-be8b-40be-a804-4f924c61661e button');\n",
              "      quickchartButtonEl.style.display =\n",
              "        google.colab.kernel.accessAllowed ? 'block' : 'none';\n",
              "    })();\n",
              "  </script>\n",
              "</div>\n",
              "\n",
              "    </div>\n",
              "  </div>\n"
            ],
            "application/vnd.google.colaboratory.intrinsic+json": {
              "type": "dataframe",
              "variable_name": "df",
              "summary": "{\n  \"name\": \"df\",\n  \"rows\": 9374,\n  \"fields\": [\n    {\n      \"column\": \"text\",\n      \"properties\": {\n        \"dtype\": \"category\",\n        \"num_unique_values\": 4221,\n        \"samples\": [\n          \"NO SE VE\",\n          \"Cita de puaj\\nNo\",\n          \"Hola Karla\"\n        ],\n        \"semantic_type\": \"\",\n        \"description\": \"\"\n      }\n    },\n    {\n      \"column\": \"type\",\n      \"properties\": {\n        \"dtype\": \"category\",\n        \"num_unique_values\": 4,\n        \"samples\": [\n          \"MISC\",\n          \"ORG\",\n          \"PER\"\n        ],\n        \"semantic_type\": \"\",\n        \"description\": \"\"\n      }\n    },\n    {\n      \"column\": \"lemma\",\n      \"properties\": {\n        \"dtype\": \"category\",\n        \"num_unique_values\": 4186,\n        \"samples\": [\n          \"Organiza\\u00e7\\u00e3o\",\n          \"Tambien\",\n          \"Sana\"\n        ],\n        \"semantic_type\": \"\",\n        \"description\": \"\"\n      }\n    }\n  ]\n}"
            }
          },
          "metadata": {},
          "execution_count": 34
        }
      ]
    },
    {
      "cell_type": "markdown",
      "source": [
        "## NER Analysis\n",
        "Lets see different metrics the following metrics:\n",
        "* Category with the highest quantity of lemas\n",
        "* The 5 most popular lemmas in each category"
      ],
      "metadata": {
        "id": "8XaS9pTTayEq"
      }
    },
    {
      "cell_type": "markdown",
      "source": [
        "## Visualization"
      ],
      "metadata": {
        "id": "TCKLN3ZozozI"
      }
    },
    {
      "source": [
        "# @title type\n",
        "\n",
        "from matplotlib import pyplot as plt\n",
        "import seaborn as sns\n",
        "df.groupby('type').size().plot(kind='barh', color=sns.palettes.mpl_palette('Dark2'))\n",
        "plt.gca().spines[['top', 'right',]].set_visible(False)"
      ],
      "cell_type": "code",
      "execution_count": 35,
      "outputs": [
        {
          "output_type": "display_data",
          "data": {
            "text/plain": [
              "<Figure size 640x480 with 1 Axes>"
            ],
            "image/png": "[encoded data removed]"
          },
          "metadata": {}
        }
      ],
      "metadata": {
        "colab": {
          "base_uri": "https://localhost:8080/",
          "height": 430
        },
        "id": "PwbPlehDXGLG",
        "outputId": "fd84b570-bb7f-41bc-ccaf-d21b99b4eec4"
      }
    },
    {
      "cell_type": "markdown",
      "source": [
        "## Lemmas Top 5 Per Category"
      ],
      "metadata": {
        "id": "CQjPtPjzzsuF"
      }
    },
    {
      "cell_type": "code",
      "source": [
        "grouped_lemmas = df.groupby(['type', 'lemma']).size().reset_index(name='frequency')\n",
        "\n",
        "# gropued_lemas = grouped_lemmas.sort_values(by=['type', 'frequency'], ascending=False)\n",
        "\n",
        "location = grouped_lemmas.loc[grouped_lemmas['type'] == 'LOC'].sort_values(by=['type', 'frequency'], ascending=False).head()\n",
        "miscellanious = grouped_lemmas.loc[grouped_lemmas['type'] == 'MISC'].sort_values(by=['type', 'frequency'], ascending=False).head()\n",
        "organization = grouped_lemmas.loc[grouped_lemmas['type'] == 'ORG'].sort_values(by=['type', 'frequency'], ascending=False).head()\n",
        "persons = grouped_lemmas.loc[grouped_lemmas['type'] == 'PER'].sort_values(by=['type', 'frequency'], ascending=False).head()\n",
        "\n",
        "print('lemmas de localidades mas mencionados:\\n', location)\n",
        "\n",
        "print('\\nlemmas de miscelanios mas mencionados:\\n', miscellanious)\n",
        "\n",
        "print('\\nlemmas de organizaciones mas mencionados:\\n', organization)\n",
        "\n",
        "print('\\nlemmas de personas mas mencionadas:\\n', persons)\n"
      ],
      "metadata": {
        "colab": {
          "base_uri": "https://localhost:8080/"
        },
        "id": "f6nGbnfovYK0",
        "outputId": "14be2dbc-6809-484f-f558-b28e113a3905"
      },
      "execution_count": 36,
      "outputs": [
        {
          "output_type": "stream",
          "name": "stdout",
          "text": [
            "lemmas de localidades mas mencionados:\n",
            "     type            lemma  frequency\n",
            "97   LOC         Búsqueda        211\n",
            "806  LOC                ¿         49\n",
            "151  LOC         Coursera         40\n",
            "452  LOC  Sandoval Flores         28\n",
            "334  LOC  María Guadalupe         23\n",
            "\n",
            "lemmas de miscelanios mas mencionados:\n",
            "       type        lemma  frequency\n",
            "1583  MISC     Semana 1        239\n",
            "1584  MISC     Semana 2        202\n",
            "1587  MISC     Semana 4        184\n",
            "1707  MISC  Visibilidad        180\n",
            "1586  MISC     Semana 3        170\n",
            "\n",
            "lemmas de organizaciones mas mencionados:\n",
            "      type       lemma  frequency\n",
            "3203  ORG          TA        383\n",
            "3157  ORG         REA        129\n",
            "3104  ORG     Miembro         27\n",
            "3048  ORG      Google         16\n",
            "3138  ORG  PORTAFOLIO         14\n",
            "\n",
            "lemmas de personas mas mencionadas:\n",
            "      type               lemma  frequency\n",
            "4425  PER             también         86\n",
            "3572  PER  Alejandro González         24\n",
            "4202  PER              además         23\n",
            "4268  PER                duda         22\n",
            "3569  PER           Alejandro         21\n"
          ]
        }
      ]
    },
    {
      "cell_type": "markdown",
      "source": [
        "# Conlusions\n",
        "* Vizualizations helps us to understand data with ease saving us time and allowing us to communicate with stakeholders, partners and other non technical people\n",
        "* We have various plot types we can choose from depending from the metric we want to meassure or analyze\n",
        "* We can use tools like Matplotlib in Python to generate plots\n",
        "* Mathematical/arithmetical calculations are possible to do very easily with tools like Numpy\n",
        "* Getting data like averages, max and min values help us understand popular topics or trends but also improvement areas\n",
        "* NLP(Natural Language Processing) is a process that involves tokenization(separating text into words), lemmatization(reducing words to its root form called lemmas, like running to run), and sentiment analysis to understand how the users feel about a product or service\n",
        "* Natural Entity Recognition(NER) is a process that helps us identify trends by generating lemma types defined by a tool, in this case I used SpaCy which recognized lemmas of \"Location\", \"Person\", \"Organization\" and \"Miscellanious\" Types, as you can see this enables us to identify popular locations, persons, organizations and other info."
      ],
      "metadata": {
        "id": "X2rBJneQ1XEk"
      }
    }
  ]
}